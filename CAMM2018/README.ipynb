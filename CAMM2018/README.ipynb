{
 "cells": [
  {
   "cell_type": "markdown",
   "metadata": {
    "toc": "true"
   },
   "source": [
    "# Table of Contents\n",
    " <p><div class=\"lev1 toc-item\"><a href=\"#はじめに\" data-toc-modified-id=\"はじめに-1\"><span class=\"toc-item-num\">1&nbsp;&nbsp;</span>はじめに</a></div><div class=\"lev1 toc-item\"><a href=\"#目次\" data-toc-modified-id=\"目次-2\"><span class=\"toc-item-num\">2&nbsp;&nbsp;</span>目次</a></div>"
   ]
  },
  {
   "cell_type": "markdown",
   "metadata": {},
   "source": [
    "<br />\n",
    "第３１期CAMMフォーラム2月本例会<br />\n",
    "2018/2/2 at 東京・表参道「アイビーホール」<br />\n",
    "<br />\n",
    "<div style=\"text-align: center;\">\n",
    "<font size=\"6\">格子欠陥について最近の研究から</font>\n",
    "</div>\n",
    "<br />\n",
    "<div style=\"text-align: right;\">\n",
    "<font size=\"4\"> local_dir:/Users/bob/materials_science/lattice_defects\n",
    "<br />\n",
    "lattice_defects on https://github.com/daddygongon/materials_science/\n",
    "<br />\n",
    "cc by 関西学院大学・理工学部・情報科学科　西谷滋人 2017 \n",
    "<br />\n",
    "\n",
    "</font>\n",
    "</div>\n"
   ]
  },
  {
   "cell_type": "markdown",
   "metadata": {},
   "source": [
    "# はじめに\n",
    "\n",
    "2006年以来の登場です．前回は，第一原理計算を用いた析出核の活性化エネルギーの話をしました．当時は，新しい大学に移った直後でまだ研究の方向が定まっていませんでしたが，振り返ってみると，それから十年経っても同じことをしています．\n",
    "\n",
    "今回も同じ核生成の話から始めます．第一原理計算と統計熱力学を組み合わせて，半導体，合金の組織形成についていくつか紹介します．具体的な対象は，Fe-Cu系の核生成, SiCの液相成長，Mg系合金のLPSO相の形成過程です．核生成，振動効果，熱力学，粒界，転位，凝固などについての計算の成功例と失敗例になります．これらを通じて，材料の計算・研究を進めるときの，generalなモデルとspecificな対象での切り替え，平衡状態と動的過程の相関を見極める視点の提供を意図しています．\n",
    "\n"
   ]
  },
  {
   "cell_type": "markdown",
   "metadata": {},
   "source": [
    "# 目次\n",
    "-   [析出(第一原理計算+ 配置エントロピー)](../nucleation_theory)\n",
    "    - Fe-Cu (finished)\n",
    "    - その他の系 (surfaceはパス)\n",
    "-   phonon(振動効果)　\n",
    "    - comp of Prof. Parlinski, Prof. Togo(phonopy), (Sakaki's MD)\n",
    "    - Frenkel法 (Prof. Neugebauer(Dusseldolf), Prof. Sahara(NIMS))\n",
    "-   solidification\n",
    "    -   MSE on SiC\n",
    "-   現実組織の発展過程\n",
    "    -LPSO\n",
    "-   粒界\n",
    "    -   転位"
   ]
  },
  {
   "cell_type": "code",
   "execution_count": null,
   "metadata": {
    "collapsed": true
   },
   "outputs": [],
   "source": []
  }
 ],
 "metadata": {
  "kernelspec": {
   "display_name": "Ruby 2.2.2",
   "language": "ruby",
   "name": "ruby"
  },
  "language_info": {
   "file_extension": ".rb",
   "mimetype": "application/x-ruby",
   "name": "ruby",
   "version": "2.2.2"
  },
  "latex_envs": {
   "LaTeX_envs_menu_present": true,
   "autocomplete": true,
   "bibliofile": "biblio.bib",
   "cite_by": "apalike",
   "current_citInitial": 1,
   "eqLabelWithNumbers": true,
   "eqNumInitial": 1,
   "hotkeys": {
    "equation": "Ctrl-E",
    "itemize": "Ctrl-I"
   },
   "labels_anchors": false,
   "latex_user_defs": false,
   "report_style_numbering": false,
   "user_envs_cfg": false
  },
  "toc": {
   "colors": {
    "hover_highlight": "#DAA520",
    "navigate_num": "#000000",
    "navigate_text": "#333333",
    "running_highlight": "#FF0000",
    "selected_highlight": "#FFD700",
    "sidebar_border": "#EEEEEE",
    "wrapper_background": "#FFFFFF"
   },
   "moveMenuLeft": true,
   "nav_menu": {
    "height": "13px",
    "width": "253px"
   },
   "navigate_menu": true,
   "number_sections": true,
   "sideBar": true,
   "threshold": 4,
   "toc_cell": true,
   "toc_section_display": "block",
   "toc_window_display": true,
   "widenNotebook": false
  }
 },
 "nbformat": 4,
 "nbformat_minor": 2
}
