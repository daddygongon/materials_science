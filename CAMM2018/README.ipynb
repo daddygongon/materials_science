{
 "cells": [
  {
   "cell_type": "markdown",
   "metadata": {
    "toc": "true"
   },
   "source": [
    "# Table of Contents\n",
    " <p><div class=\"lev1 toc-item\"><a href=\"#Introduction\" data-toc-modified-id=\"Introduction-1\"><span class=\"toc-item-num\">1&nbsp;&nbsp;</span>Introduction</a></div><div class=\"lev1 toc-item\"><a href=\"#目次\" data-toc-modified-id=\"目次-2\"><span class=\"toc-item-num\">2&nbsp;&nbsp;</span>目次</a></div>"
   ]
  },
  {
   "cell_type": "markdown",
   "metadata": {},
   "source": [
    "<br />\n",
    "\n",
    "<div style=\"text-align: center;\">\n",
    "<font size=\"6\">格子欠陥について最近の研究から</font>\n",
    "</div>\n",
    "<br />\n",
    "<div style=\"text-align: right;\">\n",
    "<font size=\"4\">local_dir:/Users/bob/materials_science/lattice_defects</font>\n",
    "<br />\n",
    "<font size=\"4\">lattice_defects on https://github.com/daddygongon/materials_science/</font>\n",
    "<br />\n",
    "<font size=\"4\">cc by 関西学院大学・理工学部・情報科学科　西谷滋人 2017 </font>\n",
    "</div>\n"
   ]
  },
  {
   "cell_type": "markdown",
   "metadata": {
    "heading_collapsed": true
   },
   "source": [
    "# Introduction"
   ]
  },
  {
   "cell_type": "markdown",
   "metadata": {
    "hidden": true
   },
   "source": [
    "我々が提案した析出核の自由エネルギー変化の精密計算法は，核生成の自由エネルギーをエンタルピー項とエントロピー項に分け，前者を第一原理計算によって，後者を統計熱力学からの見積もりによって精確に計算する．\n",
    "\n",
    "この研究の動機は，藤田英一阪大名誉教授の「核生成にはエネルギーバリアがない」という主旨の論文，発表で，私自身が理解している範囲で藤田ジレンマについて先ずまとめておく．西谷は先の研究で藤田ジレンマに対する一応の解答を得たと考えている．\n",
    "\n",
    "藤田自身の問題意識は，30年以上にわたってこの問題を発信してきたことからも分かる通り，それを理解するととても深く，示唆に富んでいる．しかし，その「核生成にはエネルギーバリアがない」とか「不足分が本体分を越す」などといった禅問答のような表現が独り歩きしている．これはセンセーションを狙った藤田特有の物言いで，翁のおちゃめと解している．しかしその示唆は貴重で，1973年の論文中[@Fujita:1973]の「反応速度式の考え方と，前述の核形成論とを結びつけるようなやり方」として出された読者への宿題を本気で解いていれば，[@BinderStauffer:1976]の有名なクラスターダイナミックスに先んじていたかもしれない．"
   ]
  },
  {
   "cell_type": "markdown",
   "metadata": {},
   "source": [
    "# 目次"
   ]
  },
  {
   "cell_type": "markdown",
   "metadata": {},
   "source": [
    "* あたらしい計算法\n",
    "    * [概略](./new_calculation.ipynb)\n",
    "    * [具体例Fe-Cu](./Fe-Cu.ipynb)\n",
    "    * [Fujita Dilemma](./fujita_dilemma.ipynb)\n",
    "* back ground\n",
    "   * [平衡エネルギーの使いドコロ](./free_energy_change.ipynb)\n",
    "   * [振動効果](./vibrational_effect.ipynb)\n",
    "* 応用\n",
    "   * [組成傾斜合金](./composition_gradient_alloy.ipynb)\n",
    "   * [3元系(空孔も)](./ternary_system.ipynb)\n",
    "   * [精緻化(回転のエントロピー)](./rotation_entropy.ipynb)"
   ]
  },
  {
   "cell_type": "code",
   "execution_count": null,
   "metadata": {
    "collapsed": true
   },
   "outputs": [],
   "source": []
  }
 ],
 "metadata": {
  "kernelspec": {
   "display_name": "Ruby 2.2.2",
   "language": "ruby",
   "name": "ruby"
  },
  "language_info": {
   "file_extension": ".rb",
   "mimetype": "application/x-ruby",
   "name": "ruby",
   "version": "2.2.2"
  },
  "latex_envs": {
   "LaTeX_envs_menu_present": true,
   "autocomplete": true,
   "bibliofile": "biblio.bib",
   "cite_by": "apalike",
   "current_citInitial": 1,
   "eqLabelWithNumbers": true,
   "eqNumInitial": 1,
   "hotkeys": {
    "equation": "Ctrl-E",
    "itemize": "Ctrl-I"
   },
   "labels_anchors": false,
   "latex_user_defs": false,
   "report_style_numbering": false,
   "user_envs_cfg": false
  },
  "toc": {
   "colors": {
    "hover_highlight": "#DAA520",
    "navigate_num": "#000000",
    "navigate_text": "#333333",
    "running_highlight": "#FF0000",
    "selected_highlight": "#FFD700",
    "sidebar_border": "#EEEEEE",
    "wrapper_background": "#FFFFFF"
   },
   "moveMenuLeft": true,
   "nav_menu": {
    "height": "13px",
    "width": "253px"
   },
   "navigate_menu": true,
   "number_sections": true,
   "sideBar": true,
   "threshold": 4,
   "toc_cell": true,
   "toc_section_display": "block",
   "toc_window_display": true,
   "widenNotebook": false
  }
 },
 "nbformat": 4,
 "nbformat_minor": 2
}
