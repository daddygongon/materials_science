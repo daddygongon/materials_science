{
 "cells": [
  {
   "cell_type": "markdown",
   "metadata": {
    "toc": "true"
   },
   "source": [
    "# Table of Contents\n",
    " <p><div class=\"lev1 toc-item\"><a href=\"#はじめに\" data-toc-modified-id=\"はじめに-1\"><span class=\"toc-item-num\">1&nbsp;&nbsp;</span>はじめに</a></div><div class=\"lev1 toc-item\"><a href=\"#agenda\" data-toc-modified-id=\"agenda-2\"><span class=\"toc-item-num\">2&nbsp;&nbsp;</span>agenda</a></div>"
   ]
  },
  {
   "cell_type": "markdown",
   "metadata": {},
   "source": [
    "<br />\n",
    "第31期CAMMフォーラム2月本例会<br />\n",
    "2018/2/2 at 東京・表参道「アイビーホール」<br />\n",
    "<br />\n",
    "<div style=\"text-align: center;\">\n",
    "<font size=\"6\">第一原理計算と熱力学を組み合わせた組織形成予測</font>\n",
    "</div>\n",
    "<br />\n",
    "<div style=\"text-align: right;\">\n",
    "<font size=\"4\"> local_dir:/Users/bob/materials_science/CAMM18\n",
    "<br />\n",
    "CAMM18 on https://github.com/daddygongon/materials_science/\n",
    "<br />\n",
    "cc by 関西学院大学・理工学部・情報科学科　西谷滋人 2018<br />\n",
    "\n",
    "</font>\n",
    "</div>\n"
   ]
  },
  {
   "cell_type": "markdown",
   "metadata": {},
   "source": [
    "# はじめに\n",
    "\n",
    "2006年以来の登場です．前回は，第一原理計算を用いた析出核の活性化エネルギーの話をしました．当時は，新しい大学に移った直後でまだ研究の方向が定まっていませんでしたが，振り返ってみると，それから十年経っても同じことをしています．\n",
    "\n",
    "当初いただいたお題は「格子欠陥についての最近の研究から」でしたが，もう少し大きなところでの取り扱いを紹介したいので，題目を改めています．\n",
    "\n",
    "今回も同じ核生成の話から始めます．第一原理計算と統計熱力学を組み合わせて，半導体，合金の組織形成についていくつか紹介します．具体的な対象は，Fe-Cu系の核生成, SiCの液相成長，Mg系合金のLPSO相の形成過程です．核生成，振動効果，熱力学，粒界，転位，凝固などについての計算の成功例と失敗例になります．これらを通じて，材料の計算・研究を進めるときの，generalなモデルとspecificな対象での切り替え，平衡状態と動的過程の相関を見極める視点の提供を意図しています．\n",
    "\n"
   ]
  },
  {
   "cell_type": "markdown",
   "metadata": {},
   "source": [
    "# agenda\n",
    "\n",
    "\n",
    "1. 材料の計算・研究での視点の移動\n",
    "   - [keynote](./CAMM2018.key)\n",
    "   - generalなモデル vs specificな対象\n",
    "   - 平衡状態 vs 動的過程\n",
    "- Fe-Cu系の析出核生成\n",
    "   - [keynote](./Nucleation_CAMM18.key)\n",
    "   - [notebook](../nucleation_theory/README.ipynb)\n",
    "   - 核生成の自由エネルギー，添加元素，空孔\n",
    "   - 動的過程との接続，熱振動の影響\n",
    "- SiCの液相成長\n",
    "   - [keynote](MSE_phonon_CAMM18.key)\n",
    "   - 凝固, 準安定平衡，\n",
    "   - 振動効果計算の失敗例[yamamoto_doc_thesis.pdf](../yamamoto_doc_thesis.pdf)\n",
    "   - phononの比較[Prof.Parlinski(MedeA) vs Prof.Togo(phonopy)](../sakaki_master_thesis.pdf)\n",
    "   - 非調和を入れるにはFrenkel法 (Prof. Neugebauer(Dusseldolf), Prof. Sahara(NIMS))\n",
    "- Mg系合金のLPSO相の形成過程\n",
    "   - [keynote](./LPSO_CAMM18.key)\n",
    "   - [notebook](../LPSO/README2016.ipynb)\n",
    "   - 振動効果が動機，キネティックMCの別のアプローチ\n",
    "\n",
    "\n",
    "* keynoteは必要ならpower pointに変換しますので，issueを投げてください．\n",
    "* notebookはほとんどが書きかけです．そこへの質問もissueへ投げてください．\n"
   ]
  },
  {
   "cell_type": "markdown",
   "metadata": {
    "collapsed": true
   },
   "source": [
    "<!-- \n",
    "![head2018](figs/CAMM2018.001.jpeg)\n",
    "![head2006](figs/CAMM2018.002.jpeg)\n",
    "![概要，履歴](figs/CAMM2018.003.jpeg)\n",
    "![multi scale simulation](figs/CAMM2018.004.jpeg)\n",
    "![組織形成と計算手法](figs/CAMM2018.005.jpeg)\n",
    "![agenda](figs/CAMM2018.006.jpeg)\n",
    "![programmingの世界](figs/CAMM2018.007.jpeg)\n",
    "-->\n"
   ]
  },
  {
   "cell_type": "code",
   "execution_count": null,
   "metadata": {
    "collapsed": true
   },
   "outputs": [],
   "source": []
  }
 ],
 "metadata": {
  "kernelspec": {
   "display_name": "Ruby 2.2.2",
   "language": "ruby",
   "name": "ruby"
  },
  "language_info": {
   "file_extension": ".rb",
   "mimetype": "application/x-ruby",
   "name": "ruby",
   "version": "2.2.2"
  },
  "latex_envs": {
   "LaTeX_envs_menu_present": true,
   "autocomplete": true,
   "bibliofile": "biblio.bib",
   "cite_by": "apalike",
   "current_citInitial": 1,
   "eqLabelWithNumbers": true,
   "eqNumInitial": 1,
   "hotkeys": {
    "equation": "Ctrl-E",
    "itemize": "Ctrl-I"
   },
   "labels_anchors": false,
   "latex_user_defs": false,
   "report_style_numbering": false,
   "user_envs_cfg": false
  },
  "toc": {
   "colors": {
    "hover_highlight": "#DAA520",
    "navigate_num": "#000000",
    "navigate_text": "#333333",
    "running_highlight": "#FF0000",
    "selected_highlight": "#FFD700",
    "sidebar_border": "#EEEEEE",
    "wrapper_background": "#FFFFFF"
   },
   "moveMenuLeft": true,
   "nav_menu": {
    "height": "13px",
    "width": "253px"
   },
   "navigate_menu": true,
   "number_sections": true,
   "sideBar": true,
   "threshold": 4,
   "toc_cell": true,
   "toc_section_display": "block",
   "toc_window_display": true,
   "widenNotebook": false
  }
 },
 "nbformat": 4,
 "nbformat_minor": 2
}
