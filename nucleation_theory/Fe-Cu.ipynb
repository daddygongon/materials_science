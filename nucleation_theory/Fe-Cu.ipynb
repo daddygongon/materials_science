{
 "cells": [
  {
   "cell_type": "markdown",
   "metadata": {},
   "source": [
    "<br />\n",
    "\n",
    "<div style=\"text-align: center;\">\n",
    "<font size=\"6\">Fe-Cu系での具体的な計算例</font>\n",
    "</div>\n",
    "<br />\n",
    "<div style=\"text-align: right;\">\n",
    "<font size=\"4\">cc by 関西学院大学・理工学部・情報科学科　西谷滋人 2017 </font>\n",
    "</div>\n",
    "\n",
    "\n"
   ]
  },
  {
   "cell_type": "markdown",
   "metadata": {},
   "source": [
    "\n",
    "モデル計算をbccFe中のbccCuの析出でおこなった．\n",
    "CuはbccFe中への析出初期に整合性を保ちbcc構造で析出することが\n",
    "知られている．\n",
    "第一原理計算にはVASPを用いた．\n",
    "bccFeは強磁性が正しく最安定構造であることが計算できている．\n",
    "\n",
    "bccFeとbccCuでは格子歪エネルギーは0.02eV/atomであるので，これを無視した．\n",
    "bccFeの一部のサイトをCu原子に置き換えてクラスターエネルギーを計算した．\n",
    "ここには，Cu原子同士の結合生成にともなうエネルギー変化と界面のFe-Cu原子間の結合による界面エネルギーとが含まれている．\n",
    "\n"
   ]
  },
  {
   "cell_type": "markdown",
   "metadata": {},
   "source": [
    "![](nucleation_theory/nucleation_theory.015.jpeg)"
   ]
  },
  {
   "cell_type": "markdown",
   "metadata": {},
   "source": [
    "\n",
    "図[Fig:ClusterEnergy]はsegregation limitから測ったクラスターエネルギーである．\n",
    "\n",
    "クラスターの構造はいろいろで，例えば，3つの原子では直線鎖line，三角形 triangleなどが考えられる．\n",
    "クラスターに新たな粒子がくっついたときにはいろいろな可能性があるだろうが，\n",
    "内部緩和を起こし，最安定なエネルギー構造に変換することが期待される．\n",
    "次の挙動をするまでに十分な時間があれば，最安定構造だけを考えれば良い．\n",
    "こうして，ある$n$に対応した形状の違うclusterをいくつも計算して\n",
    "最安定なエネルギーをプロットした図が[Fig:ClusterEnergy]である．\n"
   ]
  },
  {
   "cell_type": "markdown",
   "metadata": {},
   "source": [
    "![](nucleation_theory/nucleation_theory.016.jpeg)\n",
    "[Fig:ClusterEnergy]"
   ]
  },
  {
   "cell_type": "markdown",
   "metadata": {},
   "source": [
    "![](figures/SmallClustersEnergy.png)"
   ]
  },
  {
   "cell_type": "markdown",
   "metadata": {},
   "source": [
    "![](nucleation_theory/nucleation_theory.017.jpeg)"
   ]
  },
  {
   "cell_type": "markdown",
   "metadata": {},
   "source": [
    "bcc-Fe中のbcc-Cuに特徴的な構造が$n=9$に見られる．\n",
    "$n=9$のもっともコンパクトな構造は右パネルに示したユニット構造である．\n",
    "ところが，左パネルに示した少しいびつな構造の方が0.6eVもエネルギーが低い．\n",
    "これは，界面エネルギーの方位依存性の違いにより，(011)面にできるだけ\n",
    "囲まれるようにした結果のようである．右パネルは(001)にすべて囲まれるため\n",
    "界面エネギーを下げるために体積を減らすよりも，\n",
    "(011)面に囲まれるほうを好むようである．\n",
    "\n",
    "これよりも大きなクラスターにおいては最安定を探すのは\n",
    "試行錯誤が必要であるが，世古はこれを簡単なペアモデルをつくって，\n",
    "モンテカルロで求めていたらしい．"
   ]
  },
  {
   "cell_type": "markdown",
   "metadata": {},
   "source": [
    "![](nucleation_theory/nucleation_theory.018.jpeg)"
   ]
  },
  {
   "cell_type": "markdown",
   "metadata": {},
   "source": [
    "![](nucleation_theory/nucleation_theory.020.jpeg)"
   ]
  },
  {
   "cell_type": "markdown",
   "metadata": {},
   "source": [
    "析出の始状態と終状態を考えると，どこからエネルギーを測るかが見えてくる．\n",
    "([Eq:1])式のエネルギー変化は孤立した溶質原子エネルギー(dilution\n",
    "limit)からのズレであるので，図[Fig:ClusterEnergy]の直線からの差がこれに相当する．\n",
    "\n"
   ]
  },
  {
   "cell_type": "markdown",
   "metadata": {},
   "source": [
    "![](nucleation_theory/nucleation_theory.021.jpeg)"
   ]
  },
  {
   "cell_type": "markdown",
   "metadata": {},
   "source": [
    "![](nucleation_theory/nucleation_theory.022.jpeg)"
   ]
  },
  {
   "cell_type": "markdown",
   "metadata": {},
   "source": [
    "自由エネルギー変化のy軸は，このdilution limitを原点に取ることに相当する．\n",
    "なぜなら，析出の始状態がdilution limitの集まりであるからである．\n",
    "これに([Eq2])式のエントロピー変化を加えると図[Fig:ClusterFreeEnergy]のようなクラスター生成自由エネルギー変化が得られる．\n",
    "Fittingによって求めた臨界半径や活性化エネルギーはそれぞれ10-25個，0.4-0.8eVであった．これらはGoodmanら[@Goodman:1973b]が理論的に推測し，その後の実験の解釈に用いられている値と一致している．\n",
    "\n",
    "こうすると，析出の自由エネルギー変化は，凝集によるエンタルピーの得と，\n",
    "エントロピーの損との間で活性化の山が現れると解釈することも可能である．\n",
    "\n",
    "\n",
    "\n",
    "\n"
   ]
  },
  {
   "cell_type": "code",
   "execution_count": null,
   "metadata": {
    "collapsed": true
   },
   "outputs": [],
   "source": []
  }
 ],
 "metadata": {
  "kernelspec": {
   "display_name": "Ruby 2.2.2",
   "language": "ruby",
   "name": "ruby"
  },
  "language_info": {
   "file_extension": ".rb",
   "mimetype": "application/x-ruby",
   "name": "ruby",
   "version": "2.2.2"
  },
  "latex_envs": {
   "LaTeX_envs_menu_present": true,
   "autocomplete": true,
   "bibliofile": "biblio.bib",
   "cite_by": "apalike",
   "current_citInitial": 1,
   "eqLabelWithNumbers": true,
   "eqNumInitial": 1,
   "hotkeys": {
    "equation": "Ctrl-E",
    "itemize": "Ctrl-I"
   },
   "labels_anchors": false,
   "latex_user_defs": false,
   "report_style_numbering": false,
   "user_envs_cfg": false
  },
  "toc": {
   "colors": {
    "hover_highlight": "#DAA520",
    "navigate_num": "#000000",
    "navigate_text": "#333333",
    "running_highlight": "#FF0000",
    "selected_highlight": "#FFD700",
    "sidebar_border": "#EEEEEE",
    "wrapper_background": "#FFFFFF"
   },
   "moveMenuLeft": true,
   "nav_menu": {
    "height": "13px",
    "width": "253px"
   },
   "navigate_menu": true,
   "number_sections": true,
   "sideBar": true,
   "threshold": 4,
   "toc_cell": true,
   "toc_section_display": "block",
   "toc_window_display": true,
   "widenNotebook": false
  }
 },
 "nbformat": 4,
 "nbformat_minor": 2
}
