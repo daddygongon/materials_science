{
 "cells": [
  {
   "cell_type": "markdown",
   "metadata": {
    "toc": "true"
   },
   "source": [
    "# Table of Contents\n",
    " <p><div class=\"lev1 toc-item\"><a href=\"#析出の自由エネルギー変化への振動効果\" data-toc-modified-id=\"析出の自由エネルギー変化への振動効果-1\"><span class=\"toc-item-num\">1&nbsp;&nbsp;</span>析出の自由エネルギー変化への振動効果</a></div><div class=\"lev1 toc-item\"><a href=\"#Einsteinモデルによる自由エネルギーの温度依存性\" data-toc-modified-id=\"Einsteinモデルによる自由エネルギーの温度依存性-2\"><span class=\"toc-item-num\">2&nbsp;&nbsp;</span>Einsteinモデルによる自由エネルギーの温度依存性</a></div><div class=\"lev1 toc-item\"><a href=\"#擬調和振動子近似の原理\" data-toc-modified-id=\"擬調和振動子近似の原理-3\"><span class=\"toc-item-num\">3&nbsp;&nbsp;</span>擬調和振動子近似の原理</a></div><div class=\"lev1 toc-item\"><a href=\"#析出過程での振動効果のキャンセル\" data-toc-modified-id=\"析出過程での振動効果のキャンセル-4\"><span class=\"toc-item-num\">4&nbsp;&nbsp;</span>析出過程での振動効果のキャンセル</a></div>"
   ]
  },
  {
   "cell_type": "markdown",
   "metadata": {},
   "source": [
    "# 析出の自由エネルギー変化への振動効果\n",
    "\n",
    "これまでの計算は絶対零度での第一原理計算によってエンタルピー変化を求めている．\n",
    "したがって，有限温度の振動効果が入っていない．\n",
    "しかし，この振動効果はあまり大きく影響しない場合がある．\n",
    "ここではその考え方を詳説する．\n",
    "\n",
    "図のように自由エネルギーの組成依存性は，エンタルピー変化とエントロピー変化に分けて考えている．\n",
    "配置のエントロピー変化に温度の依存性を入れ込んでいる．\n"
   ]
  },
  {
   "cell_type": "markdown",
   "metadata": {},
   "source": [
    "![](nucleation_theory/nucleation_theory.038.jpeg)"
   ]
  },
  {
   "cell_type": "markdown",
   "metadata": {},
   "source": [
    "# Einsteinモデルによる自由エネルギーの温度依存性\n",
    "\n",
    "赤線で示した絶対零度の自由エネルギー変化を，緑線で示した800Kでの自由エネルギー変化を示している．\n"
   ]
  },
  {
   "cell_type": "markdown",
   "metadata": {},
   "source": [
    "![](nucleation_theory/nucleation_theory.039.jpeg)"
   ]
  },
  {
   "cell_type": "markdown",
   "metadata": {},
   "source": [
    "![](nucleation_theory/nucleation_theory.040.jpeg)"
   ]
  },
  {
   "cell_type": "markdown",
   "metadata": {},
   "source": [
    "ところが振動の自由エネルギーをこれに上乗せすると本当に比較して大丈夫かと心配になる．\n",
    "振動の自由エネルギーの温度依存性をEinsteinモデルで見積もった．\n",
    "これを示したのが以下の図の右パネルである．\n",
    "このスケールで比べると800Kの配置のエントロピー変化を信じていいのかと\n",
    "思われるかもしれない．"
   ]
  },
  {
   "cell_type": "markdown",
   "metadata": {},
   "source": [
    "![](nucleation_theory/nucleation_theory.041.jpeg)"
   ]
  },
  {
   "cell_type": "markdown",
   "metadata": {},
   "source": [
    "# 擬調和振動子近似の原理\n",
    "まず擬調和振動子近似の元になる調和振動子近似を考える．これは固体物理学や振動・波動の教科書にある通り，固体原子があるサイトの周りに調和振動する振動子として釘付けされているとするFig.~\\ref{Einstein}(b)のようなアインシュタイン格子である\\cite{Einstein}．固体においては配置と振動の時定数が極端に異なり，それらを独立して取り扱うことが可能となる．アインシュタインモデルやデバイモデル\\cite{Debye}が成功している理由がこの近似の正しさを示している．ただし，純粋な調和振動子近似となるアインシュタイモデルでは，熱振動は進行波ではなく，バネ定数を$k$，原子量を$M$としたとき，$\\omega=\\sqrt{k/M}$で定まる振動数で一点で振動する定在波とみなしている．これは，Fig.~\\ref{IllustratedPhonon-DOS}に実線のカーブで示した現実のフォノン状態密度を，灰色直線で示したただ一つの振動数で近似することに対応している．また，熱膨張や振動の異方性なども無視している．\n",
    "\n",
    "実際に使われている擬調和振動子近似では，もうすこし個々の固体の物性を取り入れるように改良されている．まず，もっとも単純な擬調和振動子近似であるMoruzziらの取り扱いでは\\cite{Moruzzi}，振動子の分散にデバイモデル\\cite{Debye}を用い，エネルギー-体積曲線から求まる硬さを目安にFig.~\\ref{IllustratedPhonon-DOS}の破線で示したごとくフォノン状態密度(phonon density of states, phonon-DOS)を近似する．さらにエネルギー--体積曲線の非調和性を表す高次項から，熱膨張効果を取り入れている．\n",
    "\n",
    "さらに，精度の高いモデルでは，フォノン状態密度を基底状態のフォノン分散曲線から求める．これはphonon-DOS法と呼ばれている．これには原子一個を直接微少量だけ動かした時のエネルギー変化から，原子間の力定数を求める直接法(direct method)のパッケージがParlinskiらによって開発されている\\cite{Parlinski}．力定数から求める方法では対称性の取り扱いがややこしいが，セルサイズによる計算精度に気をつければ，高速に信頼性の高いフォノン分散曲線が求まる．\n",
    "\n",
    "フォノン状態密度をリカージョン法で求める手法がSuttonらによって提案されている\\cite{Sutton}．そこでは着目している原子から始めて，徐々に外側の原子の力定数を連分数で取り入れる．最も簡単な近似では，最近接原子との力定数の対角項だけとなり，Fig.~\\ref{IllustratedPhonon-DOS}の破線で示したような単純な形をしたフォノン状態密度を仮定することになり，比較的精度よく計算できる．\n",
    "\n",
    "いずれにしろ，擬調和振動子近似では固体の振動効果の重要な寄与となる熱膨張効果，硬度の軟化などを，計算精度の高い第一原理計算と組み合わせて，求めることが可能である．"
   ]
  },
  {
   "cell_type": "markdown",
   "metadata": {},
   "source": [
    "![](nucleation_theory/nucleation_theory.042.jpeg)"
   ]
  },
  {
   "cell_type": "markdown",
   "metadata": {},
   "source": [
    "\n",
    "phonon DOSでもEinstenモデルでも振動自由エネルギーの大きさはそれほど変わらない．\n",
    "\n",
    "析出現象の自由エネルギー変化を求めるときには焼鈍時の一定温度での変化を求めることになる．\n",
    "一定温度での振動の自由エネルギー変化は図に示したような振動数依存性がある．\n",
    "すなわち，振動自由エネルギーの変化をTaylor展開すると振動数の一次微分項が支配的である．\n",
    "ところがその振動数依存性は温度が高くなる800K程度では，現実的な振動数範囲においてはほぼ一定とみなすことができる．\n",
    "したがって，この項を変化項の和から取り出すことが可能となり，\n",
    "自由エネルギー変化は，配置の変化の前後での硬くなるサイトと柔らかくなるサイトの変化の和となり，\n",
    "キャンセルすることが期待できる．"
   ]
  },
  {
   "cell_type": "markdown",
   "metadata": {},
   "source": [
    "![](nucleation_theory/nucleation_theory.043.jpeg)"
   ]
  },
  {
   "cell_type": "markdown",
   "metadata": {},
   "source": [
    "# 析出過程での振動効果のキャンセル\n",
    "\n",
    "同じ化学量論的組成を持つ化合物の多形間の相安定性を求めるには，前節で示したように，振動自由エネルギーの計算は比較的精度よく行える．しかし，２元系に適用する場合には注意が必要である．\n",
    "\n",
    "もっとも単純な擬調和振動子近似となるEinsteinモデルの振動自由エネルギー$f$で考えていこう．このとき，それぞれのサイトは，振動の自由エネルギーの変化$\\Delta F_{\\rm vib}$は，各サイトの振動数$\\omega_i$の変化で代表されると見なせる．このエネルギー変化をテイラー展開すると次の式のように表せる．\n",
    "$$\n",
    "\\begin{aligned}\n",
    "\\Delta F_{\\rm vib} =& \\sum_i{\\left\\{f(\\omega_i+\\delta \\omega_i)-f(\\omega_i)\\right\\}}\\\\ \\nonumber\n",
    "\\cong& \\sum_i{\\left\\{f^{(1)}(\\omega_i)\\delta \\omega_i)\\right\\}}\n",
    "\\cong f^{(1)}(\\omega_i)\\sum_i{\\delta \\omega_i}\n",
    "\\end{aligned}\n",
    "$$\n",
    "ここで，最後の変形は自由エネルギーの一次導関数$f^{(1)}$が振動数に依存しない場合に成り立つ．これは，図に示したEinsteinモデルの一次導関数の周波数依存性にある通り，高温において普通の金属同士の結合や固溶元素の周りで考えられる振動数変化つまり10THz未満では，成り立っている．\n",
    "\n",
    "さらに振動数の変化の和が0の場合は，自由エネルギー変化自身も消える．これは，固くなるサイトと柔らかくなるサイトが等しく，さらにバネモデルで考えると異種原子間のバネの硬さ$k_{\\rm AB}$が同種原子間のバネの硬さ$k_{\\rm AA},k_{\\rm BB}$の相加平均のとき\n",
    "$$\n",
    "k_{\\rm AB} = \\frac{k_{\\rm AA}+k_{\\rm BB}}{2}\n",
    "$$\n",
    "に成り立つ．分子動力学計算において，未知な異種原子間ポテンシャルの第一近似として構成原子間ポテンシャルの単純な相乗平均を取る場合がある．その場合には，その2次微分となる硬さの変化は，上の相殺条件を自動的に満たしてしまう．つまり，原子間ポテンシャルを$\\psi$で記すと\n",
    "$$\n",
    "\\psi_{\\rm AB} = \\sqrt{\\psi_{\\rm AA}\\psi_{\\rm BB}} \\rightarrow \\Delta F_{\\rm vib}\\cong 0\n",
    "$$\n",
    "となる．実際の系では，バネの硬さは単純な相加平均からのずれが大きいので，振動自由エネルギー変化は全自由エネルギーに大きな影響を与える．単純な原子間ポテンシャルを採用した分子動力学計算の結果には影響が現れないので，その結果を検討するときには吟味が必要である．\n",
    "\n",
    "実際にA-B bondのばね定数をA-A bondとB-B bondの相加平均と仮定すると厳密にキャンセルする．\n",
    "経験的ペアポテンシャルの第一近似ではよく取る相乗平均ではこの条件が満足されている．"
   ]
  },
  {
   "cell_type": "markdown",
   "metadata": {},
   "source": [
    "![](nucleation_theory/nucleation_theory.044.jpeg)"
   ]
  },
  {
   "cell_type": "markdown",
   "metadata": {},
   "source": [
    "第一原理計算で計算される絶対零度でのエンタルピー変化を，\n",
    "有限温度のエンタルピー変化に適用して問題ないのかという疑問は，\n",
    "一般の問題に対しては微妙かもしれない．\n",
    "\n",
    "しかし，ここでの考察が示すとおり，析出過程のエンタルピー変化に対しては\n",
    "標準モデル的な範囲においては適用可能である．\n",
    "より精密な，phonon-DOSによるモデル計算の結果がYugeによって報告されている．\n",
    "基本の考え方はここで示したとおり，うまく対象を選べば\n",
    "キャンセルしてくれることである．\n",
    "\n",
    "鉄鋼材料などで現れる析出現象では標準モデルが適用できるであろうし，\n",
    "ここで仮定しているのようなmodelateでない，急激な振動数変化が\n",
    "現れたとしてもその変化を考慮することも第一原理計算では\n",
    "可能である．\n",
    "\n",
    "\"Vibrational Contribution on Nucleation Free Energy of Cu Precipitates in Fe-Cu System\"http://www.jim.or.jp/journal/e/pdf3/45/05/1473.pdf\n",
    "Koretaka Yuge, Atsuto Seko, Kengo Kobayashi, Tetsuyuki Tatsuoka, Shigeto R.Nishitani and Hirohiko Adachi, Materials Trans., 45 No.5, (2004), 1473--1477.\n",
    "\n",
    "No.52, \"First-principles study of the effect of lattice vibrations on Cu nucleation free energy in Fe-Cu alloys\"\n",
    "Koretaka Yuge, Atsuto Seko, Isao Tanaka and Shigeto R. Nishitani, Physical Review B, 72, (2005), 174201(7 pages).\n",
    "\n",
    "No.57, \"擬調和振動子近似による振動自由エネルギーの第一原理計算\"\n",
    "西谷滋人，竹田諒平，石井英樹，山本洋佑，金子忠昭，日本金属学会誌，第73巻8号，特集「計算材料科学・工学の最前線（1）」(2009), pp.566--570．QuasiHarmonic.pdf"
   ]
  },
  {
   "cell_type": "code",
   "execution_count": null,
   "metadata": {
    "collapsed": true
   },
   "outputs": [],
   "source": []
  }
 ],
 "metadata": {
  "kernelspec": {
   "display_name": "Ruby 2.2.2",
   "language": "ruby",
   "name": "ruby"
  },
  "language_info": {
   "file_extension": ".rb",
   "mimetype": "application/x-ruby",
   "name": "ruby",
   "version": "2.2.2"
  },
  "latex_envs": {
   "LaTeX_envs_menu_present": true,
   "autocomplete": true,
   "bibliofile": "biblio.bib",
   "cite_by": "apalike",
   "current_citInitial": 1,
   "eqLabelWithNumbers": true,
   "eqNumInitial": 1,
   "hotkeys": {
    "equation": "Ctrl-E",
    "itemize": "Ctrl-I"
   },
   "labels_anchors": false,
   "latex_user_defs": false,
   "report_style_numbering": false,
   "user_envs_cfg": false
  },
  "toc": {
   "colors": {
    "hover_highlight": "#DAA520",
    "navigate_num": "#000000",
    "navigate_text": "#333333",
    "running_highlight": "#FF0000",
    "selected_highlight": "#FFD700",
    "sidebar_border": "#EEEEEE",
    "wrapper_background": "#FFFFFF"
   },
   "moveMenuLeft": true,
   "nav_menu": {
    "height": "13px",
    "width": "253px"
   },
   "navigate_menu": true,
   "number_sections": true,
   "sideBar": true,
   "threshold": 4,
   "toc_cell": true,
   "toc_section_display": "block",
   "toc_window_display": true,
   "widenNotebook": false
  }
 },
 "nbformat": 4,
 "nbformat_minor": 2
}
