{
 "cells": [
  {
   "cell_type": "markdown",
   "metadata": {
    "toc": "true"
   },
   "source": [
    "# Table of Contents\n",
    " <p><div class=\"lev2 toc-item\"><a href=\"#回転エントロピー\" data-toc-modified-id=\"回転エントロピー-01\"><span class=\"toc-item-num\">0.1&nbsp;&nbsp;</span>回転エントロピー</a></div><div class=\"lev2 toc-item\"><a href=\"#実際のエントロピー変化が与える影響\" data-toc-modified-id=\"実際のエントロピー変化が与える影響-02\"><span class=\"toc-item-num\">0.2&nbsp;&nbsp;</span>実際のエントロピー変化が与える影響</a></div>"
   ]
  },
  {
   "cell_type": "markdown",
   "metadata": {},
   "source": [
    "回転エントロピー\n",
    "----------------\n",
    "\n",
    "では回転の場合の数はどうやって求めればいいか．もっとも単純には格子の点対称性が最大数になることが分かる．例えば，先程の2次元正方格子では4が最大数である．bcc格子ではこれが24になる．しかし，クラスター形状自身の対称性からこの数は下がる．前節で求めた最もエネルギーの低いクラスターの形状を図\\[ClusterConfig\\]にまとめた．また，それぞれのクラスターに対応する回転の場合の数を表\\[Table:rotation\\]にまとめた．\n",
    "\n",
    "![クラスターの配置．<span\n",
    "data-label=\"ClusterConfig\"></span>](./figures/cluster2.jpg){width=\"95mm\"}\n",
    "\n",
    "```\n",
    "  ----------- ------ ------------ ---------- ------- ------------- ---------\n",
    "    cluster    axis    rotation    symmetry    $W$    Non-relaxed   Relaxed\n",
    "   size($n$)          ($\\times$)    ($/$)     ($=$)     \\[eV\\]      \\[eV\\]\n",
    "       2        8         1           8         1        -.144       -.163\n",
    "       3        6         4          2(?)      12        -.344       -.358\n",
    "       4        6         4          8(?)       3        -.493       -.563\n",
    "       5        6         4           2        12        -.763       -.952\n",
    "       6        6         1           2         3       -1.017      -1.162\n",
    "       7        6         4           1        24       -1.257      -1.432\n",
    "       8        6         4           2        12        -1.46      -1.658\n",
    "       9        6         4           1        24       -1.717      -1.964\n",
    "      10        6         4           2        12       -2.224      -2.227\n",
    "      11        6         4           1        24       -2.199      -2.512\n",
    "      12        6         4           1        24       -2.462      -2.818\n",
    "      13        6         4           1        24       -2.744      -3.127\n",
    "      14        6         4           1        24       -3.345      -3.728\n",
    "      15        1         1           1         1       -3.865      -4.271\n",
    "      16        6         4           1        24                   -4.511\n",
    "  ----------- ------ ------------ ---------- ------- ------------- ---------\n",
    "```\n",
    "  : それぞれのクラスターにおける場合の数$W$．場合の数はaxis x rotation /\n",
    "  symmetryで求めた．<span data-label=\"Table:rotation\"></span>\n",
    "\n",
    "実際のエントロピー変化が与える影響\n",
    "----------------------------------\n",
    "\n",
    "図\\[EntropyRev\\]には並進，回転の場合の数を含めた場合のエントロピー変化を示した．W(BW)が前節で示した単純なBragg-Williams近似を用いた場合のエントロピー変化を示す．W(BW)+W(rot24)はこれに回転の最大の場合の数(24)を加えた場合の変化，W(Trans)+W(rot24)はさらに並進の場合の数を精確に求めた場合のエントロピー変化を示す．回転の場合の数をそれぞれのクラスターの配置を考慮して求めた結果は点で示してある．これより回転の場合の数が与えるエントロピーへの影響はわずかな平行移動でしかないことが分かる(`x:=0.014;k:=0.8617*10^(-4);T:=273+500;ではk*T*ln(24)=0.21eV程度`)．それよりも並進のスターリング近似を用いる影響が大きいことが分かる．\n",
    "\n",
    "![並進，回転の場合の数を含めた場合のエントロピー変化．<span\n",
    "data-label=\"EntropyRev\"></span>](./figs/EntropyRev.jpg){width=\"95mm\"}\n",
    "\n",
    "さらにエンタルピー変化を加えて求めた自由エネルギー変化は図\\[FreeEnergyRev\\]のようである．回転の場合の数の違いによりクラスターごとのばらつきは大きくなっている．しかし，それよりも並進の場合の数の影響で全体の傾向が右肩上がりとなり，$n=15$においても自由エネルギーが下がり始めているのか疑わしくなっている．\n",
    "\n",
    "![並進，回転のエントロピーを精密に求めた場合の自由エネルギーの変化．<span\n",
    "data-label=\"FreeEnergyRev\"></span>](./figs/FreeEnergyRev.jpg){width=\"95mm\"}\n",
    "\n",
    "さらにエンタルピー変化としてrelaxation後の値を加えて求めた自由エネルギー変化は図\\[FreeEnergyRev2\\]のようである．\n",
    "\n",
    "![relaxation後のエンタルピー変化に，並進，回転のエントロピーを精密に求めた場合の自由エネルギーの変化．<span\n",
    "data-label=\"FreeEnergyRev2\"></span>](./figs/FreeEnergyRev2.jpg){width=\"95mm\"}\n"
   ]
  },
  {
   "cell_type": "markdown",
   "metadata": {},
   "source": [
    "![](nucleation_theory/nucleation_theory.054.jpeg)\n",
    "![](nucleation_theory/nucleation_theory.055.jpeg)\n",
    "![](nucleation_theory/nucleation_theory.056.jpeg)\n",
    "![](nucleation_theory/nucleation_theory.057.jpeg)\n"
   ]
  },
  {
   "cell_type": "code",
   "execution_count": null,
   "metadata": {
    "collapsed": true
   },
   "outputs": [],
   "source": []
  }
 ],
 "metadata": {
  "kernelspec": {
   "display_name": "Ruby 2.2.2",
   "language": "ruby",
   "name": "ruby"
  },
  "language_info": {
   "file_extension": ".rb",
   "mimetype": "application/x-ruby",
   "name": "ruby",
   "version": "2.2.2"
  },
  "latex_envs": {
   "LaTeX_envs_menu_present": true,
   "autocomplete": true,
   "bibliofile": "biblio.bib",
   "cite_by": "apalike",
   "current_citInitial": 1,
   "eqLabelWithNumbers": true,
   "eqNumInitial": 1,
   "hotkeys": {
    "equation": "Ctrl-E",
    "itemize": "Ctrl-I"
   },
   "labels_anchors": false,
   "latex_user_defs": false,
   "report_style_numbering": false,
   "user_envs_cfg": false
  },
  "toc": {
   "colors": {
    "hover_highlight": "#DAA520",
    "navigate_num": "#000000",
    "navigate_text": "#333333",
    "running_highlight": "#FF0000",
    "selected_highlight": "#FFD700",
    "sidebar_border": "#EEEEEE",
    "wrapper_background": "#FFFFFF"
   },
   "moveMenuLeft": true,
   "nav_menu": {
    "height": "13px",
    "width": "253px"
   },
   "navigate_menu": true,
   "number_sections": true,
   "sideBar": true,
   "threshold": 4,
   "toc_cell": true,
   "toc_section_display": "block",
   "toc_window_display": true,
   "widenNotebook": false
  }
 },
 "nbformat": 4,
 "nbformat_minor": 2
}
