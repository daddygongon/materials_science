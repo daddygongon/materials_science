{
 "cells": [
  {
   "cell_type": "markdown",
   "metadata": {
    "toc": "true"
   },
   "source": [
    "# Table of Contents\n",
    " <p><div class=\"lev1 toc-item\"><a href=\"#核生成のkinetic理論\" data-toc-modified-id=\"核生成のkinetic理論-1\"><span class=\"toc-item-num\">1&nbsp;&nbsp;</span>核生成のkinetic理論</a></div><div class=\"lev2 toc-item\"><a href=\"#Fokker-Planck方程式：平衡分布は動力学でどう使われるか\" data-toc-modified-id=\"Fokker-Planck方程式：平衡分布は動力学でどう使われるか-11\"><span class=\"toc-item-num\">1.1&nbsp;&nbsp;</span>Fokker-Planck方程式：平衡分布は動力学でどう使われるか</a></div><div class=\"lev2 toc-item\"><a href=\"#定常状態\" data-toc-modified-id=\"定常状態-12\"><span class=\"toc-item-num\">1.2&nbsp;&nbsp;</span>定常状態</a></div><div class=\"lev2 toc-item\"><a href=\"#潜伏時間\" data-toc-modified-id=\"潜伏時間-13\"><span class=\"toc-item-num\">1.3&nbsp;&nbsp;</span>潜伏時間</a></div><div class=\"lev1 toc-item\"><a href=\"#核生成の系のgrand-partition-function\" data-toc-modified-id=\"核生成の系のgrand-partition-function-2\"><span class=\"toc-item-num\">2&nbsp;&nbsp;</span>核生成の系のgrand partition function</a></div>"
   ]
  },
  {
   "cell_type": "markdown",
   "metadata": {},
   "source": [
    "# 核生成のkinetic理論\n",
    "\n",
    "\n",
    "[@BinderStauffer:1976]らが提案したclusterダイナミックスは，古典的なdropletモデルの拡張である．したがって，detailed\n",
    "balanceの議論で出てくるものとおなじクラスターの平衡分布が問題となる．[@BeckerDoring:1935]らのクラスターダイナミックスの取り扱いをまとめておく(ここでの記述は主に[@Russel:1980]に拠った)．"
   ]
  },
  {
   "cell_type": "markdown",
   "metadata": {},
   "source": [
    "![クラスターの成長にともなう原子の出入りの確率とフラックス．](nucleation_theory/nucleation_theory.027.jpeg)"
   ]
  },
  {
   "cell_type": "markdown",
   "metadata": {},
   "source": [
    "## Fokker-Planck方程式：平衡分布は動力学でどう使われるか\n",
    "\n",
    "\n",
    "クラスターは図: Cluster dynamicsに示したように，一個の原子がくっついたり離れたりするミクロな機構によって成長すると仮定する．時間$t$において原子$n$個を含んだクラスターの濃度を$f(n,t)$とする．$n$個のクラスターが$n+1$のクラスターになる確率を$w(n+1,n)$とすると，$f(n,t)$の時間変化は\n",
    "$$\n",
    "\\begin{aligned}\n",
    "\\frac{\\partial f(n,t)}{\\partial t} =& J(n-1) - J(n) \\nonumber \\\\\n",
    "=&w(n,n-1)f(n-1,t) - w(n-1,n)f(n,t) \\nonumber \\\\\n",
    "& - \\left\\{w(n+1,n)f(n,t) - w(n,n+1)f(n+1,t) \\right\\}\n",
    "\\end{aligned}\n",
    "$$\n",
    "で与えられる．ここで$J(n)$は$n$から$n+1$になるfluxに相当する．\n",
    "\n",
    "$w$を原子の捕獲確率$w(n+1,n)=\\beta(n)$と放出確率$w(n,n+1)=\\alpha(n+1)$とすると，フラックス$J$は\n",
    "$$J(n) = \\beta(n) f(n,t) - \\alpha(n+1) f(n+1,t)\n",
    "$$となる．固体の核生成の場合は$\\beta$は対象とするクラスターの方向へのジャンプ頻度とn-merへ一回のジャンプで移れる原子の数との積であろう．つまり表面積に比例している．（ほんとかな）vacancyメカニズムだと．．．\n",
    "\n",
    "$\\alpha$の方はちょっとむづかしい．なぜなら，離脱頻度は析出物表面の結合力によるポテンシャルを感じている原子にとっては，$\\beta$で考えたような単純なrandom\n",
    "walkが成り立たないからである．$\\alpha$は$J(n)$に値が存在する場合やクラスターが非平衡分布の状態でも，それほど平衡状態と違わないという仮定を置く．平衡状態では，個々のプロセスがそれの逆のプロセスと同じ頻度で起こるとする，詳細釣り合いの原理(the\n",
    "principle of detailed\n",
    "balancing)が成立する．すると[Jflux]式で，$J(n)=0,f(n,t)=C(n)$として\n",
    "$$\\alpha(n+1)=\\beta(n) \\frac{C(n)}{C(n+1)}\n",
    "$$が得られる．この仮定は，n-merクラスターが次の原子が付着するまでに内部緩和を起こす程度の時間があり，他のクラスターと相互作用していないかぎり，成立する．通常は$1/\\beta(n)$は内部緩和に比べて十分遅く，クラスターの濃度は非常に小さいため，この仮定は成り立つ．\n",
    "\n",
    "([Jflux])式と([alpha])式とを組み合わせると\n",
    "$$J(n) = \\beta(n) C(n)\\left\\{\n",
    "\\frac{f(n+1,t)}{C(n+1)} - \\frac{f(n,t)}{C(n)} \\right\\}$$\n",
    "が与えられる．通常の緩やかな変化では微分形に直せて\n",
    "$$\n",
    "J(n)= -\\beta(n)C(n) \\frac{\\partial f(n,t)/C(n)}{\\partial n} .\n",
    "$$\n",
    " ([dfdt])式に代入すると \n",
    "$$\n",
    "\\begin{aligned}\n",
    "\\frac{\\partial f(n,t)}{\\partial t} =& J(n-1) - J(n) \\nonumber \\\\\n",
    " =& -\\beta(n-1) C(n-1) \\frac{\\partial f(n-1,t)/C(n-1)}{\\partial n} \\nonumber \\\\\n",
    " &+\\beta(n) C(n) \\frac{\\partial f(n,t)/C(n)}{\\partial n} \\nonumber \\\\\n",
    " =&\\frac{\\partial}{\\partial n}\\left[\n",
    "\\beta(n) C(n) \\frac{\\partial f(n,t)/C(n)}{\\partial n} \\right]\n",
    "\\end{aligned}\n",
    "$$\n",
    "となる．最後の変形はここでも微分形に直せるとした．これがクラスター形成の動力学を記述するFokker-Planck方程式である．この式は([Jflux2])式にガウスの定理(the divergence theorem)をあてはめて直接求めることも可能である．"
   ]
  },
  {
   "cell_type": "markdown",
   "metadata": {},
   "source": [
    "## 定常状態\n",
    "\n",
    "([Jflux2])式を$J(n)={\\rm const} (J_{\\rm s})$の下で求める．この場合，すべてのフラックスが一定となる定常状態を意味している．BeckerとDöringは次のような境界条件を選定し，時間に依存しない定常解を求めた．\n",
    "$$\n",
    "\\begin{aligned}\n",
    "\\frac{f(n)}{C(n)} &\\rightarrow 1 \\, {\\rm where} \\, n \\rightarrow 1　\\nonumber \\\\\n",
    "\\frac{f(n)}{C(n)} &\\rightarrow 0 \\, {\\rm where} \\, n \\rightarrow \\infty \n",
    "\\end{aligned}\n",
    "$$\n",
    "これは$C(n)$の形状から次のように導かれる．クラスターの生成自由エネルギー$\\Delta G(n)$がenergy barrierをもち， \n",
    "$$\n",
    "C(n) = N \\exp \\left( -\\frac{\\Delta G(n)}{kT}\\right)\n",
    "$$\n",
    "で与えられるとする．ここで係数$N$は単位体積当たりの格子サイトの数で，希薄溶体においてミキシングの部分エントロピーが，n-merのサイズによらず$k \\ln(f(n)/N)$で与えられるからである(？)．$n$が小さい領域では，クラスターは一原子の孤立した状態へ容易に戻り，平衡状態に近づき$f(n)/C(n)$は1になる．一方，$n$が大きいと$C(n)$はどんどん大きくなるが$f(n)$は有限の値にとどまるので$f(n)/C(n)$は0になる．\n",
    "\n",
    "すると([Jflux2])式を変形して積分すると\n",
    "$$\n",
    "- \\int^{0}_{1}{\\frac{1}{J_{\\rm s}} {\\rm d} \\left(\\frac{f(n)}{C(n)} \\right)} =\n",
    "\\int^{\\infty}_{1}{\\frac{1}{\\beta(n)C(n)}{\\rm d}n}\n",
    "$$\n",
    "この左辺の積分を実行すると，BeckerとDöringの条件から$1/J_{\\rm s}$となり，クラスター濃度分布を代入して，\n",
    "$$\n",
    "J_{\\rm s} = \\left\\{ \\int^{\\infty}_{1}{\\frac{{\\rm d}n}{\\beta(n)N \\exp (-\\Delta G(n)/kT)} }\n",
    "\\right\\}^{-1}\n",
    "$$\n",
    "が得られる．\n",
    "\n",
    "この積分は被積分関数$\\exp(\\Delta G/kT)$の形状特性から一般的に次のようにして求められる．クラスター生成の自由エネルギーを実際に入れると被積分関数のexpの部分$\\exp(\\Delta G/kT)$は図\\[dG\\]に示したような関数となる．$\\beta(n)$が十分に緩やかに変化すると仮定すると，critical\n",
    "radiusのまわりを忠実に積分すれば十分な近似と考えられる．そこで$\\Delta G(n)$をcritical\n",
    "number $n^*$のまわりで$n$でTaylor展開すると\n",
    "$$\n",
    "\\Delta G(n) = \\Delta G(n^*) + \\frac{(n-n^*)^2}{2}\n",
    "\\left(\\frac{\\partial^2 \\Delta G}{\\partial n^2} \\right)_{n^*}\n",
    "$$\n",
    "となる．これを代入して，積分の下限を$-\\infty$で置き換えて，ガウス積分\n",
    "$$\n",
    "\\int_{-\\infty}^{\\infty} \\exp(-a x^2) {\\rm d} x = \\sqrt{\\pi/a}\n",
    "$$\n",
    "を用いると，積分結果は\n",
    "$$\n",
    "J_{\\rm s} = Z \\beta^* N \\exp\\left( - \\frac{\\Delta G^*}{kT} \\right)\n",
    "$$\n",
    "ここで，$Z$はZeldovich因子で， \n",
    "$$\n",
    "Z = \\sqrt{-\\frac{1}{2\\pi kT} \n",
    "\\left(\\frac{\\partial^2 \\Delta G}{\\partial n^2}\\right)_{n=n^*}}\n",
    "$$\n",
    "で与えられる．\n",
    "\n",
    "![クラスター生成の自由エネルギー$\\Delta G(n)$と被積分関数$\\exp(\\Delta G/kT)$．<span\n",
    "data-label=\"dG\"></span>](./figs/dG.jpg){width=\"125mm\"}\n",
    "\n",
    "このZeldvichの導き方は一見正しそうに見える．しかし，固体からの析出のように臨界核が非常に小さい場合，$\\beta(n)$に含まれる界面の面積変化も含めるとTaylor展開が妥当かどうかは不明である．$Z=10^{-2}$という非常に小さな値である通常の場合と違うので，数値計算で比較する必要がある．"
   ]
  },
  {
   "cell_type": "markdown",
   "metadata": {},
   "source": [
    "## 潜伏時間\n",
    "\n",
    "潜伏期間はFokker-Planck方程式([FokkerPlanck])の解を求めて，定常核生成状態に移るまでの期間をとる．一般的にはこのような遷移期間はexp関数で近似できて，\n",
    "$$J(t) = J_{\\rm s} \\exp(-\\tau/t)$$\n",
    "で求めら，この$\\tau$を潜伏期間としている．正確な解析解は違うがそちらが正しいかどうかは???\n",
    "\n",
    "ここではFederらの取り扱いを解説した榎本の記述を転記する．Federらは核生成理論が大前提としている，(II)揺らぎによる生成，消滅過程が平均的におなじ過程で起こる，(III)マクロな法則に従うという二つの仮定をつかってFokker-Planck方程式が記述している物理現象を解析した．([FokkerPlanck])式の内側の微分を実行すると\n",
    "$$\n",
    "\\frac {\\partial}{\\partial n}\\left(\\frac{f(n,t)}{C(n)}\\right) =\n",
    "\\frac{\\frac{\\partial}{\\partial n}f(n,t)}{C(n)}-\n",
    "\\frac{f(n,t) \\frac{\\partial C(n)}{\\partial n}}{ C(n)^{2}}\n",
    "$$\n",
    "となる．これを代入すると \n",
    "$$\n",
    "\\begin{aligned}\n",
    "\\frac{\\partial f(n,t)}{\\partial t}\n",
    "=&\\frac{\\partial}{\\partial n}\\beta(n) C(n)\\left(\n",
    "\\frac{\\frac{\\partial}{\\partial n}f(n,t)}{C(n)}-\n",
    "\\frac{f(n,t) \\frac{\\partial C(n)}{\\partial n}}{ C(n)^{2}}\n",
    "\\right) \\nonumber \\\\\n",
    "=&\\frac{\\partial}{\\partial n}\n",
    "\\left( \\beta(n) \\frac{\\partial f (n,t)}{\\partial n} - \n",
    "\\frac{\\beta(n)}{C(n)} f(n,t) \\frac{\\partial C(n)}{\\partial n}\n",
    "\\right) \\nonumber \\\\\n",
    "=&\\frac{\\partial}{\\partial n}\n",
    "\\left( \\beta(n) \\frac{\\partial f (n,t)}{\\partial n} \\right)\n",
    "-\\frac{\\partial}{\\partial n}\n",
    "\\left( \\beta(n) f (n,t) \\frac{\\partial \\ln C(n)}{\\partial n} \\right)\n",
    " \\nonumber \\\\\n",
    "=&\\frac{\\partial}{\\partial n}\n",
    "\\left( \\beta(n) \\frac{\\partial f (n,t)}{\\partial n} \\right)\n",
    "+ \\frac{\\partial}{\\partial n}\n",
    "\\left( \\frac{\\beta(n) f (n,t)}{kT} \\frac{\\partial \\Delta G(n)}{\\partial n} \\right)\n",
    "\\end{aligned}\n",
    "$$\n",
    "となる．最後の変形には \n",
    "$$\n",
    "\\frac{\\partial}{\\partial n} \\ln C(n) =\n",
    "-\\frac{1}{kT} \\frac{\\partial \\Delta G(n)}{\\partial n}\n",
    "$$ \n",
    "を用いた．\n",
    "\n",
    "右辺の第１項は拡散，第２項はそれに対するポテンシャル勾配の影響を表す．$n$の小さい領域では$\\Delta G(n)$の$n$に対する勾配が大きく，第２項が効いて，クラスターは素早く成長，分解する．$n \\sim n^*$付近ではポテンシャル勾配が小さくなるため第１項が支配的となる．この領域では原子が付着と離脱を繰り返すので成長が遅く，ここを通過する時間が定常拡散へいくまでの時間の大部分を占めていると考えてよい．\n",
    "\n",
    "揺らぎの領域を$\\Delta G^*$から幅$\\sim kT$以内とし，対応するクラスター分布の幅を$\\delta$とすると\n",
    "$$\\delta =\\left\\{- \\frac{1}{8kT} \n",
    "\\left. \\frac{\\partial^2 \\Delta G(n)}{\\partial n^2} \\right|_{n^*} \n",
    "\\right\\}^{-1/2}$$\n",
    "となる．$\\beta(n)$には表面積が含まれているがその変化は小さいとして臨界核での$\\beta^*$を拡散係数とすると，$\\delta \\sim \\sqrt{\\beta^* \\tau}$と書けるから，\n",
    "$$\\tau \\sim -\\frac{\\chi  k T}{\\beta^* \\left. \\frac{\\partial^2 \\Delta G(n)}{\\partial n^2} \\right|_{n^*}  }$$\n",
    "ここで，$\\chi$は8であるが，Federらは4とした．Zeldovich係数を使うと\n",
    "$$Z^2 = - \\frac{1}{6.28 kT} \\left. \\frac{\\partial^2 \\Delta G(n)}{\\partial n^2} \\right|_{n^*}$$\n",
    "であるので，$\\delta \\sim Z^{-1}$．よって$\\chi =4$とすると\n",
    "$$\\tau = \\frac{1}{2 Z^2 \\beta^*}$$\n",
    "と近似できる．この結果は数値的にFokker-Planck方程式を解いた結果と一致しているらしい．これも確認する必要がある．"
   ]
  },
  {
   "cell_type": "markdown",
   "metadata": {},
   "source": [
    "# 核生成の系のgrand partition function\n",
    "\n",
    "\n",
    "droplet modelのgrand partition\n",
    "functionに関する解説で，もっとも簡単な形で示した[@Kastrup:1998]の記述にしたがって表記する．\n",
    "\n",
    "\n",
    "さらにLangerは自由エネルギーの虚数部が核生成の頻度を表すことを導き(Langer\n",
    "and Schwart)，これはKampmann and Wagnerへつながっているらしい．"
   ]
  },
  {
   "cell_type": "markdown",
   "metadata": {},
   "source": [
    "![](nucleation_theory/nucleation_theory.026.jpeg)"
   ]
  },
  {
   "cell_type": "code",
   "execution_count": null,
   "metadata": {
    "collapsed": true
   },
   "outputs": [],
   "source": []
  }
 ],
 "metadata": {
  "kernelspec": {
   "display_name": "Ruby 2.2.2",
   "language": "ruby",
   "name": "ruby"
  },
  "language_info": {
   "file_extension": ".rb",
   "mimetype": "application/x-ruby",
   "name": "ruby",
   "version": "2.2.2"
  },
  "latex_envs": {
   "LaTeX_envs_menu_present": true,
   "autocomplete": true,
   "bibliofile": "biblio.bib",
   "cite_by": "apalike",
   "current_citInitial": 1,
   "eqLabelWithNumbers": true,
   "eqNumInitial": 1,
   "hotkeys": {
    "equation": "Ctrl-E",
    "itemize": "Ctrl-I"
   },
   "labels_anchors": false,
   "latex_user_defs": false,
   "report_style_numbering": false,
   "user_envs_cfg": false
  },
  "toc": {
   "colors": {
    "hover_highlight": "#DAA520",
    "navigate_num": "#000000",
    "navigate_text": "#333333",
    "running_highlight": "#FF0000",
    "selected_highlight": "#FFD700",
    "sidebar_border": "#EEEEEE",
    "wrapper_background": "#FFFFFF"
   },
   "moveMenuLeft": true,
   "nav_menu": {
    "height": "13px",
    "width": "253px"
   },
   "navigate_menu": true,
   "number_sections": true,
   "sideBar": true,
   "threshold": 4,
   "toc_cell": true,
   "toc_section_display": "block",
   "toc_window_display": true,
   "widenNotebook": false
  }
 },
 "nbformat": 4,
 "nbformat_minor": 2
}
