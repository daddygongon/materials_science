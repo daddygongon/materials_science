{
 "cells": [
  {
   "cell_type": "markdown",
   "metadata": {
    "toc": "true"
   },
   "source": [
    "# Table of Contents\n",
    " <p><div class=\"lev1 toc-item\"><a href=\"#核生成理論のどこが議論されているか(藤田論文の波紋)\" data-toc-modified-id=\"核生成理論のどこが議論されているか(藤田論文の波紋)-1\"><span class=\"toc-item-num\">1&nbsp;&nbsp;</span>核生成理論のどこが議論されているか(藤田論文の波紋)</a></div>"
   ]
  },
  {
   "cell_type": "markdown",
   "metadata": {},
   "source": [
    "# 核生成理論のどこが議論されているか(藤田論文の波紋)"
   ]
  },
  {
   "cell_type": "markdown",
   "metadata": {},
   "source": [
    "まず古典的核生成論は，材料の多くの教科書に出てくるとおり，相転移において新相のエンブリオが核として成長する前段階では系のエネルギーは正となり，それを超えるための活性化過程があるとする．エンブリオを半径$r$の球状として，そのエネルギーを表現する式，\n",
    "$$\\Delta G = -\\frac{4}{3}\\pi r^3 \\epsilon + 4 \\pi r^2 \\gamma\n",
    "$$\n",
    "において，$r$が小さいと$r^2$を含む表面エネルギー$\\gamma$による右辺第二項が$r^3$を含む体積エネルギー$\\epsilon$による第一項を優先し，**図:核生成の自由エネルギー変化**に示すように，成長初期には$\\Delta G$が上昇し，臨界寸法と臨界エネルギーが現れ，したがって核生成は活性化過程をともなうとする．"
   ]
  },
  {
   "cell_type": "markdown",
   "metadata": {},
   "source": [
    "![](nucleation_theory/nucleation_theory.030.jpeg)"
   ]
  },
  {
   "cell_type": "markdown",
   "metadata": {},
   "source": [
    "これに対する藤田の批判は以下の通りである[@Fujita:2003]．\n",
    "```\n",
    "「第一に，表面(界面)エネルギーの本性は，原子集団の凝集エネルギーの表面における不足分に大部分由来すると考えられる．すなわち 図:表面エネルギーの概念図 に示したように，孤立した原子集団の内部の原子がまわりの原子群と十分な結合状態を持つのに対して，表面原子は結合相手が約半分しかなく，したがって相手の数が不足して結合エネルギーの下がりが不十分であり，破線で示したこの不足分(欠損分)を完全な結合状態からの上がり分，即ち，正の値を持つ表面エネルギーとして別個に考えているのである．通常，これを抜き出して，点線のように表面の位置に突出したエネルギー分として描くが，この山は長い曲がった矢印が示すように，破線に当たる結合状態からの立ち上がりでなくてはならない．したがって，(\\[Eq:1\\])式の第二項が第一項に優るならば，不足分が本体分を越すという矛盾になるであろう．」\n",
    "```"
   ]
  },
  {
   "cell_type": "markdown",
   "metadata": {},
   "source": [
    "![](nucleation_theory/nucleation_theory.032.jpeg)"
   ]
  },
  {
   "cell_type": "markdown",
   "metadata": {},
   "source": [
    "さらに，\n",
    "```\n",
    "「2原子分子的な結合，即ちdimer，あるいは3原子集合のtrimerその他の小さな集合体は実際に存在し，それらの結合は常に引力的とせざるを得ず，小さい集団では正のエネルギーを持つとは考えられていない．」\n",
    "```\n",
    "という例を出している．これらの考察は，「表面(界面)エネルギーのせいで自由エネルギーが正になるわけがない」，あるいは「結合エネルギーの変化だけを考えると，山はできない」ということを示唆している．"
   ]
  },
  {
   "cell_type": "markdown",
   "metadata": {},
   "source": [
    "また駆動力については，その著書([@Fujita:1996])のなかで指摘している．\n",
    "```\n",
    "図　Precipitation　の析出過程では，高温での均質固溶領域から時効温度($T_a$)へ系が持ちきたらされたときの自由エネルギー変化に対応している．すなわち，自由エネルギーの変化は　図:析出の駆動力　にしめすような組成自由エネルギー曲線を考える．系全体の自由エネルギー変化はoからuへの変化である．しかし，これが駆動力になるわけではない．駆動力は，初期組成$c_0$での自由エネルギー曲線の接線の延長qから，析出物の自由エネルギーsへのエネルギー差に相当する．そこでは化学ポテンシャルという言葉が用いられているが，これは一原子の持っている自由エネルギーと考えれば理解されよう．\n",
    "```"
   ]
  },
  {
   "cell_type": "markdown",
   "metadata": {},
   "source": [
    "![](nucleation_theory/nucleation_theory.034.jpeg)"
   ]
  },
  {
   "cell_type": "markdown",
   "metadata": {},
   "source": [
    "これらの指摘は正しい．また，[@Fujita:2003]ではさらに，活性化の要因となる，歪エネルギー，振動エネルギーの効果も挙げている．しかし，これらの影響がない場合に，すなわち配置の変化にともなうエンタルピー，エントロピーの変化だけで活性化の山は出るのであろうか？　さらに，藤田の指摘以外にも核生成自由エネルギーを表す**図:核生成の自由エネルギー変化**には謎がある：\n",
    "1. なぜクラスターサイズ$n$の関数なのか，\n",
    "1. そもそもこの図の縦軸の原点はなになのか？　\n",
    "\n",
    "これらの問題を考える前に，現在受け入れられている核生成理論において，この自由エネルギーはどのように扱われているかを見ておく必要がある．"
   ]
  },
  {
   "cell_type": "markdown",
   "metadata": {},
   "source": [
    "Appendix Aには[@BeckerDoring:1935]の取り扱いをまとめている．ここで重要な点は，dropletモデルの自由エネルギーはclusterの反応係数の導出で，detailed\n",
    "balanceが成り立つためにしか用いられていない点である．また，Appendix BにはLanger([@Langer:1967; @Langer:1969]のgrand partition functionの導き方を示した．ここでも，自由エネルギーはexcess\n",
    "energyとして使われているだけである．つまり，どちらのより厳密とされる核生成理論も，自由エネルギーをクラスターサイズあるいは溶質原子$n$個に限られたcanonical ensembleとして使われている．こうなると，自由エネルギーの横軸がなぜ，$n$のあるいは$r$の関数となるかが理解されよう．つまり，溶質の原子数を固定したcanonical ensembleで自由エネルギーを計算すればいいことが示唆される．このような理解にたって，我々の核生成自由エネルギーの第一原理計算を見ていこう．藤田の疑問はその中で明らかとなる．\n"
   ]
  },
  {
   "cell_type": "code",
   "execution_count": null,
   "metadata": {
    "collapsed": true
   },
   "outputs": [],
   "source": []
  }
 ],
 "metadata": {
  "kernelspec": {
   "display_name": "Ruby 2.2.2",
   "language": "ruby",
   "name": "ruby"
  },
  "language_info": {
   "file_extension": ".rb",
   "mimetype": "application/x-ruby",
   "name": "ruby",
   "version": "2.2.2"
  },
  "latex_envs": {
   "LaTeX_envs_menu_present": true,
   "autocomplete": true,
   "bibliofile": "biblio.bib",
   "cite_by": "apalike",
   "current_citInitial": 1,
   "eqLabelWithNumbers": true,
   "eqNumInitial": 1,
   "hotkeys": {
    "equation": "Ctrl-E",
    "itemize": "Ctrl-I"
   },
   "labels_anchors": false,
   "latex_user_defs": false,
   "report_style_numbering": false,
   "user_envs_cfg": false
  },
  "toc": {
   "colors": {
    "hover_highlight": "#DAA520",
    "navigate_num": "#000000",
    "navigate_text": "#333333",
    "running_highlight": "#FF0000",
    "selected_highlight": "#FFD700",
    "sidebar_border": "#EEEEEE",
    "wrapper_background": "#FFFFFF"
   },
   "moveMenuLeft": true,
   "nav_menu": {
    "height": "13px",
    "width": "253px"
   },
   "navigate_menu": true,
   "number_sections": true,
   "sideBar": true,
   "threshold": 4,
   "toc_cell": true,
   "toc_section_display": "block",
   "toc_window_display": true,
   "widenNotebook": false
  }
 },
 "nbformat": 4,
 "nbformat_minor": 2
}
