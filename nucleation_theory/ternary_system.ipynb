{
 "cells": [
  {
   "cell_type": "markdown",
   "metadata": {
    "toc": "true"
   },
   "source": [
    "# Table of Contents\n",
    " <p><div class=\"lev1 toc-item\"><a href=\"#3元系への拡張--Niと空孔の影響\" data-toc-modified-id=\"3元系への拡張--Niと空孔の影響-1\"><span class=\"toc-item-num\">1&nbsp;&nbsp;</span>3元系への拡張--Niと空孔の影響</a></div><div class=\"lev2 toc-item\"><a href=\"#Fe-Cu-Ni系への適用\" data-toc-modified-id=\"Fe-Cu-Ni系への適用-11\"><span class=\"toc-item-num\">1.1&nbsp;&nbsp;</span>Fe-Cu-Ni系への適用</a></div><div class=\"lev2 toc-item\"><a href=\"#ミクロとマクロの状態量の関連\" data-toc-modified-id=\"ミクロとマクロの状態量の関連-12\"><span class=\"toc-item-num\">1.2&nbsp;&nbsp;</span>ミクロとマクロの状態量の関連</a></div>"
   ]
  },
  {
   "cell_type": "markdown",
   "metadata": {},
   "source": [
    "# 3元系への拡張--Niと空孔の影響\n",
    "\n",
    "新たに得られた核生成エネルギー計算法を，3元系へ適用する方法です．\n",
    "\n",
    "## Fe-Cu-Ni系への適用\n",
    "\n",
    "始状態と終状態を次のように取ります．\n",
    "![](nucleation_theory/nucleation_theory.046.jpeg)\n",
    "このモデルに従って計算すると，次のような式が得られます．\n",
    "![](nucleation_theory/nucleation_theory.047.jpeg)\n",
    "2元系と同じように第一原理計算で最安定なクラスターエネルギーを求めます．\n",
    "![](nucleation_theory/nucleation_theory.048.jpeg)\n",
    "得られたエネルギーをsegregation limitに対してプロットします．\n",
    "\n",
    "![](nucleation_theory/nucleation_theory.049.jpeg)\n",
    "3元系での希薄極限の取り方は少し異なります．\n",
    "添加元素の影響として考えてるので，\n",
    "Niは一原子に固定して考えています．\n",
    "Cuのサイズが増えていくにつれての変化を\n",
    "見るので，dilution limitの基準はNi[1]からNi[1]+Cu[1]の\n",
    "エネルギーを取ることになります．\n",
    "\n"
   ]
  },
  {
   "cell_type": "markdown",
   "metadata": {},
   "source": [
    "![](nucleation_theory/nucleation_theory.050.jpeg)\n",
    "\n",
    "dilution limitを基準にしてエンタルピー項を引き直します．\n",
    "さらに，先ほど求めたエントロピー項を加えます．\n",
    "実験条件に合うように，$T=500^\\circ$C,Cuの初期濃度を1.4at%, Niの初期濃度を0.5at%として求めてみました．\n",
    "\n",
    "2元系と比較すると表のような差が出てきます．活性化エネルギーは0.67から0.31eVに減少し，\n",
    "臨界原子数も13個から4個に減っています．\n",
    "\n",
    "この減少の理由は単純に理解できます．\n",
    "エントロピー変化は3元系でもあまり変わりません．\n",
    "それに対して，エンタルピーは劇的に変わります．\n",
    "下の図はNi[1]+Cu[14]のclusterでNiを中心と，界面とに置いた時の\n",
    "エネルギーを比較しています．\n",
    "界面に置いた時にエネルギーが劇的に減少しているのがわかると思います．\n",
    "この界面への偏析はすべてのclusterでおなじ傾向があります．\n"
   ]
  },
  {
   "cell_type": "markdown",
   "metadata": {},
   "source": [
    "## ミクロとマクロの状態量の関連\n",
    "\n",
    "そしてこれは，第一原理で計算するまでのなく，\n",
    "マクロな熱力学的な値である．相互作用パラメータをみれば\n",
    "同じ傾向があることが理解できます．\n",
    "Fe-Cuはもともと2相分離傾向であったことからも分かる通り反発的です．\n",
    "一方，Fe-NiあるいはCu-Niは全率固溶であることからも分かる通り，\n",
    "ほとんど相互作用がありません．\n",
    "その傾向がミクロな析出過程でも生きているのです．\n",
    "つまり，Niは反発的なFe-Cuのボンドを減らすように，\n",
    "界面に偏析する傾向が強いのです．\n",
    "\n",
    "\n",
    "![](nucleation_theory/nucleation_theory.051.jpeg)"
   ]
  },
  {
   "cell_type": "markdown",
   "metadata": {},
   "source": [
    "![](nucleation_theory/nucleation_theory.052.jpeg)\n",
    "\n",
    "同じような計算をNiの代わりに空孔(Vacancy)に対しても行いました．\n",
    "その場合は逆に，vacancyは界面よりも中心に入りたがる傾向があります．\n",
    "この傾向も，空孔形成エネルギーと相関があります．\n",
    "Cu中とFe中での空孔形成エネルギーはそれぞれ0.6, 2.3eVです．\n",
    "したがって，Cuクラスターは空孔を取り込む傾向が強いようです．\n",
    "こうすると，Cuクラスターの移動や，成長の加速があるかもしれません．\n",
    "逆に，固溶しているCuの拡散を促進する空孔がclusterにtrapされるために\n",
    "成長が遅くなるかもしれません．\n",
    "\n"
   ]
  },
  {
   "cell_type": "markdown",
   "metadata": {},
   "source": []
  },
  {
   "cell_type": "code",
   "execution_count": null,
   "metadata": {
    "collapsed": true
   },
   "outputs": [],
   "source": []
  }
 ],
 "metadata": {
  "kernelspec": {
   "display_name": "Ruby 2.2.2",
   "language": "ruby",
   "name": "ruby"
  },
  "language_info": {
   "file_extension": ".rb",
   "mimetype": "application/x-ruby",
   "name": "ruby",
   "version": "2.2.2"
  },
  "latex_envs": {
   "LaTeX_envs_menu_present": true,
   "autocomplete": true,
   "bibliofile": "biblio.bib",
   "cite_by": "apalike",
   "current_citInitial": 1,
   "eqLabelWithNumbers": true,
   "eqNumInitial": 1,
   "hotkeys": {
    "equation": "Ctrl-E",
    "itemize": "Ctrl-I"
   },
   "labels_anchors": false,
   "latex_user_defs": false,
   "report_style_numbering": false,
   "user_envs_cfg": false
  },
  "toc": {
   "colors": {
    "hover_highlight": "#DAA520",
    "navigate_num": "#000000",
    "navigate_text": "#333333",
    "running_highlight": "#FF0000",
    "selected_highlight": "#FFD700",
    "sidebar_border": "#EEEEEE",
    "wrapper_background": "#FFFFFF"
   },
   "moveMenuLeft": true,
   "nav_menu": {
    "height": "13px",
    "width": "253px"
   },
   "navigate_menu": true,
   "number_sections": true,
   "sideBar": true,
   "threshold": 4,
   "toc_cell": true,
   "toc_section_display": "block",
   "toc_window_display": true,
   "widenNotebook": false
  }
 },
 "nbformat": 4,
 "nbformat_minor": 2
}
