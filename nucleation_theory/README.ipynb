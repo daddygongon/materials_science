{
 "cells": [
  {
   "cell_type": "markdown",
   "metadata": {
    "toc": "true"
   },
   "source": [
    "# Table of Contents\n",
    " <p><div class=\"lev1 toc-item\"><a href=\"#Introduction\" data-toc-modified-id=\"Introduction-1\"><span class=\"toc-item-num\">1&nbsp;&nbsp;</span>Introduction</a></div><div class=\"lev1 toc-item\"><a href=\"#published-papers-related-to-nucleation-calculation\" data-toc-modified-id=\"published-papers-related-to-nucleation-calculation-2\"><span class=\"toc-item-num\">2&nbsp;&nbsp;</span>published papers related to nucleation calculation</a></div>"
   ]
  },
  {
   "cell_type": "markdown",
   "metadata": {},
   "source": [
    "<br />\n",
    "\n",
    "<div style=\"text-align: center;\">\n",
    "<font size=\"6\">核生成における自由エネルギー変化</font>\n",
    "</div>\n",
    "<br />\n",
    "<div style=\"text-align: right;\">\n",
    "<font size=\"4\">local_dir:/Users/bob/materials_science/nucleation_theory</font>\n",
    "<br />\n",
    "<font size=\"4\">https://github.com/daddygongon/materials_science/</font>\n",
    "<br />\n",
    "<font size=\"4\">cc by 関西学院大学・理工学部・情報科学科　西谷滋人 2017 </font>\n",
    "</div>\n"
   ]
  },
  {
   "cell_type": "markdown",
   "metadata": {},
   "source": [
    "# Introduction\n",
    "\n",
    "我々が提案した析出核の自由エネルギー変化の精密計算法は，核生成の自由エネルギーをエンタルピー項とエントロピー項に分け，前者を第一原理計算によって，後者を統計熱力学からの見積もりによって精確に計算する．\n",
    "\n",
    "この研究の動機は，藤田英一阪大名誉教授の「核生成にはエネルギーバリアがない」という主旨の論文，発表で，私自身が理解している範囲で藤田ジレンマについて先ずまとめておく．西谷は先の研究で藤田ジレンマに対する一応の解答を得たと考えている．\n",
    "\n",
    "藤田自身の問題意識は，30年以上にわたってこの問題を発信してきたことからも分かる通り，それを理解するととても深く，示唆に富んでいる．しかし，その「核生成にはエネルギーバリアがない」とか「不足分が本体分を越す」などといった禅問答のような表現が独り歩きしている．これはセンセーションを狙った藤田特有の物言いで，翁のおちゃめと解している．しかしその示唆は貴重で，1973年の論文中[@Fujita:1973]の「反応速度式の考え方と，前述の核形成論とを結びつけるようなやり方」として出された読者への宿題を本気で解いていれば，[@BinderStauffer:1976]の有名なクラスターダイナミックスに先んじていたかもしれない．\n"
   ]
  },
  {
   "cell_type": "markdown",
   "metadata": {},
   "source": [
    "* あたらしい計算法\n",
    "    * [概略](./new_calculation.ipynb)\n",
    "    * [具体例Fe-Cu](./Fe-Cu.ipynb)\n",
    "    * [Fujita Dilemma](./fujita_dilemma.ipynb)\n",
    "* back ground\n",
    "   * [活性化エネルギーの使いドコロ](./free_energy_change.ipynb)\n",
    "   * [振動効果](./vibrational_effect.ipynb)\n",
    "* 応用\n",
    "   * [組成傾斜合金](./composition_gradient_alloy.ipynb)\n",
    "   * [3元系(空孔も)](./ternary_system.ipynb)\n",
    "   * [精緻化(回転のエントロピー)](./rotation_entropy.ipynb)"
   ]
  },
  {
   "cell_type": "markdown",
   "metadata": {
    "collapsed": true
   },
   "source": [
    "# published papers related to nucleation calculation\n",
    "\n",
    "* あたらしい計算法\n",
    "  * [概略]\n",
    "    * No.50, \"析出核生成による自由エネルギーの第一原理計算\", 世古敦人　西谷滋人　田中 功　足立裕彦，日本金属学会誌,68巻12号(2004), 973--976.\n",
    "    * No.47, \"First-principle calculation on free energy of precipitate nucleation\", Atsuto Seko, Shigeto R.Nishitani, Isao Tanaka, Hirohiko Adachi and Eiichi F. Fujita, Calphad, 28 Issue 2, (2004), 173--176.\n",
    "    * No.55, \"バルク中でのナノサイズ熱力学と相安定性\", 西谷滋人，まてりあ,46巻3号(2007), 創立70周年記念特集「材料科学の課題と展望~ナノマテリアル・環境材料を中心として~」pp.216-219.\n",
    "  * [Fujita Dilemma] ...\n",
    "* back ground\n",
    "  * [活性化エネルギーの使いドコロ] unpublished\n",
    "  * [振動効果]\n",
    "    * No.46, \"Vibrational Contribution on Nucleation Free Energy of Cu Precipitates in Fe-Cu System\"http://www.jim.or.jp/journal/e/pdf3/45/05/1473.pdf, Koretaka Yuge, Atsuto Seko, Kengo Kobayashi, Tetsuyuki Tatsuoka, Shigeto R.Nishitani and Hirohiko Adachi, Materials Trans., 45 No.5, (2004), 1473--1477.\n",
    "    * No.52, \"First-principles study of the effect of lattice vibrations on Cu nucleation free energy in Fe-Cu alloys\", Koretaka Yuge, Atsuto Seko, Isao Tanaka and Shigeto R. Nishitani, Physical Review B, 72, (2005), 174201(7 pages).\n",
    "    * No.48, \"Theoretical Study of Vibrational Contribution on Cluster Formation in a Binary Alloy System\", Koretaka Yuge, Shigeto R.Nishitani and Isao Tanaka, Calphad, 28 Issue 2, (2004), 167--171.\n",
    "* 応用\n",
    "   * [組成傾斜合金] unpublished\n",
    "   * [3元系(空孔も)]\n",
    "      * No.45, \"Free-Energy Calculation of Precipitate Nucleation in an Fe-Cu-Ni Alloy\", Atsuto Seko, Natsuki Odagaki, Shigeto R.Nishitani, Isao Tanaka and Hirohiko Adachi, Materials Trans., 45 No.6, (2004), 1978-1981.\n",
    "      * No.54, \"Vacancy effect on the precipitate nucleation in Fe-Cu alloy\", Shigeto R. Nishitani, Atsuto Seko, Koretaka Yuge, and Isao Tanaka, Proceedings for the 3rd International Conference of Multiscale Materials Modeling, Ed by P. Gumbsch, (Fraunfofer IRB Veralag, 2006, ISBN-10: 3-8167-7206-4, ISBN-13: 978-3-8167-7206-4), pp.771-773.MMM06.pdf\n",
    "   * [精緻化(回転のエントロピー)] unpublished\n",
    "* 熱力学他テキスト\n",
    "  * No. 62, ”状態図と統計力学の基礎” 11PhaseDiagramSeminar.pdf 西谷滋人，学振状態図セミナー(11/10/17,18, 東京工業大学，大岡山キャンパス，フェライト記念会議室).\n",
    "  * \"固体物理の基礎 　材料がわかる量子力学と熱統計力学\",西谷滋人，森北出版 2006.\n",
    "\n",
    "\n"
   ]
  },
  {
   "cell_type": "code",
   "execution_count": null,
   "metadata": {
    "collapsed": true
   },
   "outputs": [],
   "source": []
  }
 ],
 "metadata": {
  "kernelspec": {
   "display_name": "Ruby 2.2.2",
   "language": "ruby",
   "name": "ruby"
  },
  "language_info": {
   "file_extension": ".rb",
   "mimetype": "application/x-ruby",
   "name": "ruby",
   "version": "2.2.2"
  },
  "latex_envs": {
   "LaTeX_envs_menu_present": true,
   "autocomplete": true,
   "bibliofile": "biblio.bib",
   "cite_by": "apalike",
   "current_citInitial": 1,
   "eqLabelWithNumbers": true,
   "eqNumInitial": 1,
   "hotkeys": {
    "equation": "Ctrl-E",
    "itemize": "Ctrl-I"
   },
   "labels_anchors": false,
   "latex_user_defs": false,
   "report_style_numbering": false,
   "user_envs_cfg": false
  },
  "toc": {
   "colors": {
    "hover_highlight": "#DAA520",
    "navigate_num": "#000000",
    "navigate_text": "#333333",
    "running_highlight": "#FF0000",
    "selected_highlight": "#FFD700",
    "sidebar_border": "#EEEEEE",
    "wrapper_background": "#FFFFFF"
   },
   "moveMenuLeft": true,
   "nav_menu": {
    "height": "13px",
    "width": "253px"
   },
   "navigate_menu": true,
   "number_sections": true,
   "sideBar": true,
   "threshold": 4,
   "toc_cell": true,
   "toc_section_display": "block",
   "toc_window_display": true,
   "widenNotebook": false
  }
 },
 "nbformat": 4,
 "nbformat_minor": 2
}
