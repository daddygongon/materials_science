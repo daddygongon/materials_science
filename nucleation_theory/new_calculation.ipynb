{
 "cells": [
  {
   "cell_type": "markdown",
   "metadata": {
    "toc": "true"
   },
   "source": [
    "# Table of Contents\n",
    " <p>"
   ]
  },
  {
   "cell_type": "markdown",
   "metadata": {},
   "source": [
    "<br />\n",
    "\n",
    "<div style=\"text-align: center;\">\n",
    "<font size=\"6\">新しい計算法の概略</font>\n",
    "</div>\n",
    "<br />\n",
    "<div style=\"text-align: right;\">\n",
    "<font size=\"4\">cc by 関西学院大学・理工学部・情報科学科　西谷滋人 2017 </font>\n",
    "</div>\n",
    "\n"
   ]
  },
  {
   "cell_type": "markdown",
   "metadata": {},
   "source": [
    "通常のモデルでは，析出の駆動力は，過飽和な状態での自由エネルギーから得られる．\n",
    "一方，界面エネルギーはスラブモデルを用いて第一原理計算で\n",
    "求めることが可能である．\n",
    "\n",
    "得られた，駆動力を界面エネルギーの和として，\n",
    "析出に伴う自由エネルギー変化が見積もられる．\n",
    "しかし，界面エネルギーは方位に依存するため，\n",
    "どのような値を用いるかは微妙である．\n"
   ]
  },
  {
   "cell_type": "markdown",
   "metadata": {},
   "source": [
    "![](nucleation_theory/nucleation_theory.007.jpeg)"
   ]
  },
  {
   "cell_type": "markdown",
   "metadata": {},
   "source": [
    "![](nucleation_theory/nucleation_theory.008.jpeg)"
   ]
  },
  {
   "cell_type": "markdown",
   "metadata": {},
   "source": [
    "エネルギー変化は別の見方をすると以下のようになる．自由エネルギー$\\Delta G$を\n",
    "$$\n",
    "\\Delta G = \\left(\\Delta H_{\\rm V} + H_{\\rm surface} \\right) - T \\Delta S\n",
    "$$\n",
    "のようにエネルギー項とエントロピー項$S$に分ける．前者は内部エンタルピーの変化$\\Delta H_{\\rm V}$と界面エネルギー$H_{\\rm surface}$を含んでおり，密度汎関数理論にもとづいた精密計算が可能である．後者は単純な理想溶体近似によって，\n",
    "$x$を初期溶質濃度とすると \n",
    "$$\n",
    "\\Delta S = k_{\\rm B} (n-1) \\ln(x)\n",
    "$$\n",
    "と見積もられる[@KamijoFukutomi:1983]．\n",
    "\n"
   ]
  },
  {
   "cell_type": "markdown",
   "metadata": {},
   "source": [
    "![](nucleation_theory/nucleation_theory.009.jpeg)"
   ]
  },
  {
   "cell_type": "markdown",
   "metadata": {},
   "source": [
    "もう少し詳しくエネルギーの分け方の変更を見ていこう．\n",
    "エネルギー変化を析出粒子の原子数$n$で考えていこう．\n",
    "自由エネルギー変化は，$n$に比例する体積項と$n^{2/3}$に比例する表面項$H_s$からなる(左パネル)．\n",
    "この体積項はエントロピー変化とエンタルピー変化に分けることができる(中パネル)．\n",
    "さらにこのエンタルピー項$\\Delta H$と表面項を加えて，純粋にエネルギー変化\n",
    "のみからなる項をまとめることができる．\n",
    "界面と粒子の変化をまとめて第一原理計算でエネルギー変化を求めることが可能となる．\n",
    "\n",
    "この変更によってトータルの自由エネルギーが変わるわけではない．"
   ]
  },
  {
   "cell_type": "markdown",
   "metadata": {},
   "source": [
    "![](nucleation_theory/nucleation_theory.010.jpeg)\n",
    "[エネルギー変化のまとめ方を組み替える説明図．左パネルが従来の体積項と表面項でのクラスターサイズ依存性．右パネルがエントロピー項とエンタルピー項をまとめたクラスターサイズ依存性．]"
   ]
  },
  {
   "cell_type": "markdown",
   "metadata": {},
   "source": [
    "\n",
    "\n",
    "析出はquenching温度に置かれた均質固溶体状態から，\n",
    "固相線以下のannealing温度まで過飽和な状態に持ち来たらされ，\n",
    "その温度で保持されて状態が変化していく．\n",
    "\n",
    "析出の自由エネルギー変化の始状態と終状態を次のように取る"
   ]
  },
  {
   "cell_type": "markdown",
   "metadata": {},
   "source": [
    "![](nucleation_theory/nucleation_theory.006.jpeg)"
   ]
  },
  {
   "cell_type": "markdown",
   "metadata": {},
   "source": [
    "核生成の自由エネルギー変化は溶質原子数を固定して考えればいい．新しい核生成自由エネルギーの計算法は，核生成の始状態と終状態を図[Fig:directMethod]のように単純に考えることに相当する．始状態は孤立･分散した溶質原子が溶媒原子中にばらばらに浮いている状態であり，終状態はサイズ$n$のクラスターを１個作った状態である．この二つの状態のエンタルピー，エントロピー変化をそれぞれ計算することによって核生成の自由エネルギーを求めることが出来る．"
   ]
  },
  {
   "cell_type": "markdown",
   "metadata": {},
   "source": [
    "![](nucleation_theory/nucleation_theory.012.jpeg)\n",
    "[核生成の始状態，終状態の模式図．]"
   ]
  },
  {
   "cell_type": "markdown",
   "metadata": {},
   "source": [
    "核生成前後の配置の場合の数からエントロピー変化の導出を考える．2元系においてクラスターサイズを$n$原子，溶質濃度を$x$とおく．核生成に関わる領域$M$を$M = n/x$原子と定義する．溶質原子の数は$Mx$，母相原子の数は$M(1-x)$である．よって核生成前の場合数$W_{1}$は\n",
    "$$\n",
    "W_{1}=\\frac{M!}{(Mx)![M(1-x)]!}\n",
    "$$\n",
    "である．一方，核生成後の場合の数$W_{2}$はクラスター1個とFe原子$M(1-x)$個の配置を考えて\n",
    "$$\n",
    "W_{2} = \\frac{[M(1-x)+1]!}{[M(1-x)]!}\n",
    "$$\n",
    "である．クラスター内部はすべてCu原子なので場合の数は発生しない．配置のエントロピーの定義より\n",
    "$$\n",
    "\\begin{aligned}\n",
    "\\Delta S_\\mathrm{V} =& k_\\mathrm{B} (\\ln W_{2} - \\ln W_{1}) \\nonumber \\\\\n",
    "=& k_\\mathrm{B} \\ln \\frac{[M(1-x)+1]!(Mx)!}{M!}\n",
    "\\end{aligned}\n",
    "$$\n",
    "を得る．式中$k_\\mathrm{B}$はBoltzmann定数である．溶質が希薄かつ$M$が大きい極限ではこの式は2元系理想溶体での近似式\n",
    "$$\n",
    "\\Delta S_\\mathrm{V} = k_\\mathrm{B} ( n - 1 ) \\ln (x) \n",
    "$$と一致する．([eq:S-kamijo])式は理想溶体の混合の自由エネルギーからエントロピー変化の式を導き，クラスターの組成を1としたときの極限である．"
   ]
  }
 ],
 "metadata": {
  "kernelspec": {
   "display_name": "Ruby 2.2.2",
   "language": "ruby",
   "name": "ruby"
  },
  "language_info": {
   "file_extension": ".rb",
   "mimetype": "application/x-ruby",
   "name": "ruby",
   "version": "2.2.2"
  },
  "latex_envs": {
   "LaTeX_envs_menu_present": true,
   "autocomplete": true,
   "bibliofile": "biblio.bib",
   "cite_by": "apalike",
   "current_citInitial": 1,
   "eqLabelWithNumbers": true,
   "eqNumInitial": 1,
   "hotkeys": {
    "equation": "Ctrl-E",
    "itemize": "Ctrl-I"
   },
   "labels_anchors": false,
   "latex_user_defs": false,
   "report_style_numbering": false,
   "user_envs_cfg": false
  },
  "toc": {
   "colors": {
    "hover_highlight": "#DAA520",
    "navigate_num": "#000000",
    "navigate_text": "#333333",
    "running_highlight": "#FF0000",
    "selected_highlight": "#FFD700",
    "sidebar_border": "#EEEEEE",
    "wrapper_background": "#FFFFFF"
   },
   "moveMenuLeft": true,
   "nav_menu": {
    "height": "13px",
    "width": "253px"
   },
   "navigate_menu": true,
   "number_sections": true,
   "sideBar": true,
   "threshold": 4,
   "toc_cell": true,
   "toc_section_display": "block",
   "toc_window_display": true,
   "widenNotebook": false
  }
 },
 "nbformat": 4,
 "nbformat_minor": 2
}
