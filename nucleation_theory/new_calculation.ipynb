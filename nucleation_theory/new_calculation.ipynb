{
 "cells": [
  {
   "cell_type": "markdown",
   "metadata": {
    "toc": "true"
   },
   "source": [
    "# Table of Contents\n",
    " <p>"
   ]
  },
  {
   "cell_type": "markdown",
   "metadata": {},
   "source": [
    "前節の考察にあるとおり，核生成の自由エネルギー変化は溶質原子数を固定して考えればいい．新しい核生成自由エネルギーの計算法は，核生成の始状態と終状態を図\\[directMethod\\]のように単純に考えることに相当する．始状態は孤立･分散した溶質原子が溶媒原子中にばらばらに浮いている状態であり，終状態はサイズ$n$のクラスターを１個作った状態である．この二つの状態のエンタルピー，エントロピー変化をそれぞれ計算することによって核生成の自由エネルギーを求めることが出来る．\n",
    "\n",
    "![核生成の始状態，終状態の模式図．<span\n",
    "data-label=\"directMethod\"></span>](./figs/Fig2.jpg){width=\"75mm\"}\n",
    "\n",
    "別の見方をすると以下のようになる．自由エネルギー$\\Delta G$を\n",
    "$$\\Delta G = \\left(\\Delta H_{\\rm V} + H_{\\rm surface} \\right) - T \\Delta S\n",
    "$$のようにエネルギー項とエントロピー項$S$に分ける．前者は内部エンタルピーの変化$\\Delta H_{\\rm V}$と界面エネルギー$H_{\\rm surface}$を含んでおり，密度汎関数理論にもとづいた精密計算が可能である．後者は単純な理想溶体近似によって，\n",
    "$x$を初期溶質濃度とすると $$\\Delta S = k_{\\rm B} (n-1) \\ln(x)\n",
    "$$ と見積もられる[@KamijoFukutomi:1983]．\n",
    "モデル計算をbccFe中のbccCuの析出でおこなった．第一原理計算にはVASPを用いた．bccFeとbccCuでは格子歪エネルギーは0.02eV/atomであるので，これを無視した．bccFeの一部のサイトをCu原子に置き換えてクラスターエネルギーを計算した．ここには，Cu原子同士の結合生成にともなうエネルギー変化と界面のFe-Cu原子間の結合による界面エネルギーとが含まれている．図\\[ClusterEnergy\\]はsegregation\n",
    "limitから測ったクラスターエネルギーである．(\\[Eq1\\])式のエネルギー変化は孤立した溶質原子エネルギー(dilution\n",
    "limit)からのズレであるので，図\\[ClusterEnergy\\]の直線からの差がこれに相当する．これに(\\[Eq2\\])式のエントロピー変化を加えると図\\[ClusterFreeEnergy\\]のようなクラスター生成自由エネルギー変化が得られる．Fittingによって求めた臨界半径や活性化エネルギーはそれぞれ10-25個，0.4-0.8eVであった．これらはGoodmanら[@Goodman:1973b]が理論的に推測し，その後の実験の解釈に用いられている値と一致している．\n",
    "\n",
    "![クラスターエネルギーのサイズ依存．<span\n",
    "data-label=\"ClusterEnergy\"></span>](./figs/ClusterEnergy.jpg){width=\"75mm\"}\n",
    "\n",
    "![クラスターの自由エネルギー変化．<span\n",
    "data-label=\"ClusterFreeEnergy\"></span>](./figs/ClusterFreeEnergy.jpg){width=\"75mm\"}\n",
    "\n",
    "藤田が考えていたボンドの変化によるエネルギー変化は，ここではcluster\n",
    "energyに相当する．そこでは確かに山は存在せず，単調減少する関数となっている．また，自由エネルギーの図の原点がdilution\n",
    "limitにあることが分かる．つまり溶質原子が一個ある状態が，お互いに相互作用せずに何個もある状態を考える．これは初期組成の自由エネルギーの接線の延長に相当する．このモデルでは，初期組成，温度の影響はすべてエントロピー項の傾きに押し込められている．これらの過飽和度の変化に連れて活性化の山は移る．また，このような絶妙なエントロピーの値を見積もるのは一般的なモデルでは難しく，このあたりの影響を藤田が見誤ったのではないかと推測される．\n",
    "\n",
    "エントロピー変化(並進)\n",
    "----------------------\n",
    "\n",
    "前節に示した通り，析出核生成に伴う自由エネルギー変化のなかで，エンタルピー変化は第一原理計算法によって適切に扱うことが可能である．そこでは，比べるべき，始状態と終状態が明確に定義されている．では，エントロピーはどうであろうか?\n",
    "\n",
    "前節の取り扱いではエントロピー変化は単純なBragg-Williams近似が成り立つと仮定した．しかし，実際のエントロピー変化は，より精確に場合の数を数える必要がある．析出核の形状として球形を仮定した場合には場合の数が発生しないが，多原子分子クラスターが高温で回転の自由度を持つように，回転にともなう場合の数が発生することが期待される．図\\[SchemRotation\\]にこの様子を模式的に示した．ある形状のクラスターがとる配置は，代表点(中心)を決めると，その並進とそのまわりの回転の単純な積である．クラスターがとる場合の数は，\n",
    "$$W = W_{\\rm trans} \\times W_{\\rm rot}$$\n",
    "となる．先ずは並進にともなうエントロピー変化の導出を示す[@Odagaki03\n",
    "小田垣卒論]．\n",
    "\n",
    "![クラスターの場合の数．<span\n",
    "data-label=\"SchemRotation\"></span>](./figs/SchemRotation2.jpg){width=\"35mm\"}\n",
    "\n",
    "核生成前後の配置の場合の数からエントロピー変化の導出を考える．2元系においてクラスターサイズを$n$原子，溶質濃度を$x$とおく．核生成に関わる領域$M$を$M = n/x$原子と定義する．溶質原子の数は$Mx$，母相原子の数は$M(1-x)$である．よって核生成前の場合数$W_{1}$は\n",
    "$$W_{1}=\\frac{M!}{(Mx)![M(1-x)]!}\n",
    "\\vspace{.5cm}\n",
    "$$である．一方，核生成後の場合の数$W_{2}$はクラスター1個とFe原子$M(1-x)$個の配置を考えて\n",
    "$$W_{2} = \\frac{[M(1-x)+1]!}{[M(1-x)]!}\n",
    "\\vspace{.5cm}\n",
    "$$である．クラスター内部はすべてCu原子なので場合の数は発生しない．配置のエントロピーの定義より\n",
    "$$\\begin{aligned}\n",
    "\\Delta S_\\mathrm{V} &=& k_\\mathrm{B} (\\ln W_{2} - \\ln W_{1}) \\nonumber \\\\\n",
    "&=& k_\\mathrm{B} \\ln \\frac{[M(1-x)+1]!(Mx)!}{M!}\n",
    "\\vspace{.5cm}\n",
    "\\end{aligned}$$を得る．式中$k_\\mathrm{B}$はBoltzmann定数である．溶質が希薄かつ$M$が大きい極限ではこの式は2元系理想溶体での近似式\n",
    "$$\\Delta S_\\mathrm{V} = k_\\mathrm{B} ( n - 1 ) \\ln (x) \n",
    "\\vspace{.5cm}\n",
    "$$と一致する．(\\[eq:S-kamijo\\])式は理想溶体の混合の自由エネルギーからエントロピー変化の式を導き，クラスターの組成を1としたときの極限である．\n"
   ]
  },
  {
   "cell_type": "markdown",
   "metadata": {},
   "source": [
    "![](nucleation_theory/nucleation_theory.006.jpeg)\n",
    "![](nucleation_theory/nucleation_theory.007.jpeg)\n",
    "![](nucleation_theory/nucleation_theory.008.jpeg)\n",
    "![](nucleation_theory/nucleation_theory.009.jpeg)\n",
    "![](nucleation_theory/nucleation_theory.010.jpeg)\n",
    "![](nucleation_theory/nucleation_theory.011.jpeg)\n",
    "![](nucleation_theory/nucleation_theory.012.jpeg)\n"
   ]
  },
  {
   "cell_type": "code",
   "execution_count": null,
   "metadata": {
    "collapsed": true
   },
   "outputs": [],
   "source": []
  }
 ],
 "metadata": {
  "kernelspec": {
   "display_name": "Ruby 2.2.2",
   "language": "ruby",
   "name": "ruby"
  },
  "language_info": {
   "file_extension": ".rb",
   "mimetype": "application/x-ruby",
   "name": "ruby",
   "version": "2.2.2"
  },
  "latex_envs": {
   "LaTeX_envs_menu_present": true,
   "autocomplete": true,
   "bibliofile": "biblio.bib",
   "cite_by": "apalike",
   "current_citInitial": 1,
   "eqLabelWithNumbers": true,
   "eqNumInitial": 1,
   "hotkeys": {
    "equation": "Ctrl-E",
    "itemize": "Ctrl-I"
   },
   "labels_anchors": false,
   "latex_user_defs": false,
   "report_style_numbering": false,
   "user_envs_cfg": false
  },
  "toc": {
   "colors": {
    "hover_highlight": "#DAA520",
    "navigate_num": "#000000",
    "navigate_text": "#333333",
    "running_highlight": "#FF0000",
    "selected_highlight": "#FFD700",
    "sidebar_border": "#EEEEEE",
    "wrapper_background": "#FFFFFF"
   },
   "moveMenuLeft": true,
   "nav_menu": {
    "height": "13px",
    "width": "253px"
   },
   "navigate_menu": true,
   "number_sections": true,
   "sideBar": true,
   "threshold": 4,
   "toc_cell": true,
   "toc_section_display": "block",
   "toc_window_display": true,
   "widenNotebook": false
  }
 },
 "nbformat": 4,
 "nbformat_minor": 2
}
