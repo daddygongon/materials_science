{
 "cells": [
  {
   "cell_type": "markdown",
   "metadata": {
    "toc": "true"
   },
   "source": [
    "# Table of Contents\n",
    " <p><div class=\"lev1 toc-item\"><a href=\"#comp_grad_alloy.ipynb\" data-toc-modified-id=\"comp_grad_alloy.ipynb-1\"><span class=\"toc-item-num\">1&nbsp;&nbsp;</span>comp_grad_alloy.ipynb</a></div>"
   ]
  },
  {
   "cell_type": "markdown",
   "metadata": {},
   "source": [
    "写真は名工大の宮崎名誉教授らが示した過飽和度と析出粒子の臨界半径，incubation timeの関係を示す非常に分かりやすい実験結果である．Ni母相にAlを過飽和に押し込んで，annealing temperatureに保持する．ただし，Alの濃度は傾斜を付けておくというトリックを使う．するとNi$_3$Alの臨界半径やincubation timeが同時に測定できるという．"
   ]
  },
  {
   "cell_type": "markdown",
   "metadata": {},
   "source": [
    "# comp_grad_alloy.ipynb\n",
    "\n",
    "![](nucleation_theory/nucleation_theory.002.jpeg)"
   ]
  },
  {
   "cell_type": "markdown",
   "metadata": {},
   "source": [
    "![](nucleation_theory/nucleation_theory.023.jpeg)"
   ]
  },
  {
   "cell_type": "markdown",
   "metadata": {},
   "source": [
    "新しいエネルギーのわけかたに従って組成傾斜合金からの析出挙動を解釈すると，新しい解釈がいかに分かりやすいかを示すことができる．\n",
    "\n",
    "まず，なぜ組成の傾斜によって析出する粒子の半径が異なってくるかが素直に理解できる．これは臨界半径と対応しているので，通常の解釈では体積項の変化に押し込められるが，その変化を数値化するのは簡単ではない．一方，新しい解釈では次のようになる．右上図にFe-Cuの場合の計算結果を掲載しているが，エントロピー項は初期組成$x$に依存する$\\ln x$項を含んでいる．この組成が小さくなると，エントロピー項は赤く直線で示したとおり，より大きな正の傾きとなり臨界半径が大きくなる．一方，組成が大きくなると傾きが小さくなり臨界半径が小さくなる．これが析出粒子半径の濃度依存性や，incubation timeの違いを直接表現していることが理解されよう．\n",
    "\n",
    "さらに，組成の違いは析出の駆動力の違いを意味するが，それがエントロピー項と直接結びついていることが理解される．エンタルピー変化には違いはなく，表面エネルギーだけでなくエンタルピーで表現される体積項にも変化はない．エントロピー変化の導出において，Fe-Cu系では単純に初期組成の均質固溶体と，完全に析出し尽くした状態との差を考えた．しかし，終状態はNi$_3$Alのような化合物や，固溶限がpureから程遠い状態などもありうる．そのような場合には，過飽和度や活量と置き換えて，問題によって適切な表現を適用すればよい．"
   ]
  },
  {
   "cell_type": "code",
   "execution_count": null,
   "metadata": {
    "collapsed": true
   },
   "outputs": [],
   "source": []
  }
 ],
 "metadata": {
  "kernelspec": {
   "display_name": "Ruby 2.2.2",
   "language": "ruby",
   "name": "ruby"
  },
  "language_info": {
   "file_extension": ".rb",
   "mimetype": "application/x-ruby",
   "name": "ruby",
   "version": "2.2.2"
  },
  "latex_envs": {
   "LaTeX_envs_menu_present": true,
   "autocomplete": true,
   "bibliofile": "biblio.bib",
   "cite_by": "apalike",
   "current_citInitial": 1,
   "eqLabelWithNumbers": true,
   "eqNumInitial": 1,
   "hotkeys": {
    "equation": "Ctrl-E",
    "itemize": "Ctrl-I"
   },
   "labels_anchors": false,
   "latex_user_defs": false,
   "report_style_numbering": false,
   "user_envs_cfg": false
  },
  "toc": {
   "colors": {
    "hover_highlight": "#DAA520",
    "navigate_num": "#000000",
    "navigate_text": "#333333",
    "running_highlight": "#FF0000",
    "selected_highlight": "#FFD700",
    "sidebar_border": "#EEEEEE",
    "wrapper_background": "#FFFFFF"
   },
   "moveMenuLeft": true,
   "nav_menu": {
    "height": "13px",
    "width": "253px"
   },
   "navigate_menu": true,
   "number_sections": true,
   "sideBar": true,
   "threshold": 4,
   "toc_cell": true,
   "toc_section_display": "block",
   "toc_window_display": true,
   "widenNotebook": false
  }
 },
 "nbformat": 4,
 "nbformat_minor": 2
}
