{
 "cells": [
  {
   "cell_type": "markdown",
   "metadata": {
    "toc": "true"
   },
   "source": [
    "# Table of Contents\n",
    " <p><div class=\"lev1 toc-item\"><a href=\"#Mg系合金のLPSO構造生成機構\" data-toc-modified-id=\"Mg系合金のLPSO構造生成機構-1\"><span class=\"toc-item-num\">1&nbsp;&nbsp;</span>Mg系合金のLPSO構造生成機構</a></div><div class=\"lev2 toc-item\"><a href=\"#積層欠陥initiateな研究\" data-toc-modified-id=\"積層欠陥initiateな研究-11\"><span class=\"toc-item-num\">1.1&nbsp;&nbsp;</span>積層欠陥initiateな研究</a></div><div class=\"lev1 toc-item\"><a href=\"#積層欠陥と溶質原子の相互作用\" data-toc-modified-id=\"積層欠陥と溶質原子の相互作用-2\"><span class=\"toc-item-num\">2&nbsp;&nbsp;</span>積層欠陥と溶質原子の相互作用</a></div><div class=\"lev1 toc-item\"><a href=\"#L1_2クラスターと溶質原子の相互作用\" data-toc-modified-id=\"L1_2クラスターと溶質原子の相互作用-3\"><span class=\"toc-item-num\">3&nbsp;&nbsp;</span>L1$_2$クラスターと溶質原子の相互作用</a></div><div class=\"lev1 toc-item\"><a href=\"#L1_2とsmall-clusterの相互作用\" data-toc-modified-id=\"L1_2とsmall-clusterの相互作用-4\"><span class=\"toc-item-num\">4&nbsp;&nbsp;</span>L1$_2$とsmall clusterの相互作用</a></div>"
   ]
  },
  {
   "cell_type": "markdown",
   "metadata": {},
   "source": [
    "# Mg系合金のLPSO構造生成機構\n",
    "\n",
    "Mg-Zn-Y合金で見つかっているLPSO(Long Period Stacking Order)構造の生成機構についての研究です．LPSO構造を有するMg合金は，比強度で超々ジュラルミンを凌駕する機械的特性から次世代の航空機用構造材料として注目を集めています．\n",
    "\n",
    "LPSO構造はHAADF-STEM像から，\n",
    "* 7周期の長周期積層構造\n",
    "* 積層欠陥部に溶質が濃化\n",
    "\n",
    "つまり，積層欠陥と溶質という二つの役者がシンクロした\n",
    "特殊な構造として知られてました．\n",
    "しかし，このような複雑な構造がどのようにして自然に\n",
    "形成されるかは不明でした．\n",
    "\n",
    "西谷グループでは2010年以来，\n",
    "形成過程について二つのシナリオをたてて，\n",
    "第一原理計算によるエネルギー的な検証を進めてきました．\n",
    "\n",
    "![](LPSO2016/LPSO2016_E.003.jpeg)\n",
    "![](LPSO2016/LPSO2016_E.004.jpeg)\n",
    "\n",
    "最初の疑問は，\n",
    "\n",
    "1. 役者がふたりとしてどっちが先にできるのだろうか？\n",
    "\n",
    "でした．これを書き直すと，\n",
    "1. 積層欠陥先行型，stacking fault initiate\n",
    "1. 溶質中距離秩序，solute ordering initiate\n",
    "\n",
    "のどちらかということ．"
   ]
  },
  {
   "cell_type": "markdown",
   "metadata": {},
   "source": [
    "## 積層欠陥initiateな研究\n",
    "\n",
    "周期的な積層欠陥がLPSO構造生成の引き金となるという研究...\n",
    "これ以降，いくつもの報告があるが，Landau流の研究者が主流．\n",
    "\n",
    "\n",
    "![](LPSO2016/LPSO2016_E.006.jpeg)"
   ]
  },
  {
   "cell_type": "markdown",
   "metadata": {},
   "source": [
    "# 積層欠陥と溶質原子の相互作用\n",
    "\n",
    "二つのシナリオの入力パラメータとなるエネルギーの\n",
    "特徴モデルを構築して第一原理計算により見積もった．\n",
    "\n",
    "積層欠陥と溶質原子の相互作用によって中距離orderingが\n",
    "起こることを期待したが，確認できなかった．\n",
    "\n",
    "![](LPSO2016/LPSO2016.010.jpeg)\n",
    "![](LPSO2016/LPSO2016.011.jpeg)\n",
    "![](LPSO2016/LPSO2016.012.jpeg)\n",
    "![](LPSO2016/LPSO2016.013.jpeg)"
   ]
  },
  {
   "cell_type": "markdown",
   "metadata": {},
   "source": [
    "# L1$_2$クラスターと溶質原子の相互作用\n",
    "\n",
    "積層欠陥に生成するL1$_2$クラスターと溶質原子の相互作用を\n",
    "計算した．孤立したY，あるいはY-Znペアととの間には，\n",
    "反発的な相互作用を確認した．\n",
    "\n",
    "当初は，これが4-5層の中距離秩序の生成に結びつくと\n",
    "期待したが，kineticなsimulationsではそのあたりに\n",
    "溶質原子が濃化する作用は生まれなかった．\n",
    "\n",
    "![](LPSO2016/LPSO2016.016.jpeg)\n",
    "![](LPSO2016/LPSO2016.017.jpeg)\n",
    "![](LPSO2016/LPSO2016.018.jpeg)\n",
    "![](LPSO2016/LPSO2016.019.jpeg)"
   ]
  },
  {
   "cell_type": "markdown",
   "metadata": {
    "collapsed": true
   },
   "source": [
    "# L1$_2$とsmall clusterの相互作用\n",
    "\n",
    "L1$_2$とsmall clusterの相互作用に中距離の安定性が初めて確認された．\n",
    "\n",
    "![](LPSO2016/LPSO2016_E.015.jpeg)\n",
    "![](LPSO2016/LPSO2016_E.016.jpeg)\n",
    "![](LPSO2016/LPSO2016_E.017.jpeg)\n",
    "![](LPSO2016/LPSO2016_E.018.jpeg)\n"
   ]
  },
  {
   "cell_type": "code",
   "execution_count": null,
   "metadata": {
    "collapsed": true
   },
   "outputs": [],
   "source": []
  }
 ],
 "metadata": {
  "kernelspec": {
   "display_name": "Ruby 2.2.2",
   "language": "ruby",
   "name": "ruby"
  },
  "language_info": {
   "file_extension": ".rb",
   "mimetype": "application/x-ruby",
   "name": "ruby",
   "version": "2.2.2"
  },
  "latex_envs": {
   "LaTeX_envs_menu_present": true,
   "autocomplete": true,
   "bibliofile": "biblio.bib",
   "cite_by": "apalike",
   "current_citInitial": 1,
   "eqLabelWithNumbers": true,
   "eqNumInitial": 1,
   "hotkeys": {
    "equation": "Ctrl-E",
    "itemize": "Ctrl-I"
   },
   "labels_anchors": false,
   "latex_user_defs": false,
   "report_style_numbering": false,
   "user_envs_cfg": false
  },
  "toc": {
   "colors": {
    "hover_highlight": "#DAA520",
    "navigate_num": "#000000",
    "navigate_text": "#333333",
    "running_highlight": "#FF0000",
    "selected_highlight": "#FFD700",
    "sidebar_border": "#EEEEEE",
    "wrapper_background": "#FFFFFF"
   },
   "moveMenuLeft": true,
   "nav_menu": {
    "height": "13px",
    "width": "253px"
   },
   "navigate_menu": true,
   "number_sections": true,
   "sideBar": true,
   "threshold": 4,
   "toc_cell": true,
   "toc_position": {
    "height": "541px",
    "left": "0px",
    "right": "614.1983642578125px",
    "top": "133.99456787109375px",
    "width": "239px"
   },
   "toc_section_display": "block",
   "toc_window_display": true,
   "widenNotebook": false
  }
 },
 "nbformat": 4,
 "nbformat_minor": 2
}
